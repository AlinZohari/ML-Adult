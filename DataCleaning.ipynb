{
 "cells": [
  {
   "attachments": {},
   "cell_type": "markdown",
   "metadata": {},
   "source": [
    "# Common Preprocessing\n",
    "This file shows common preprossing steps for our tasks.\n",
    "## Collect and Explore the Data\n",
    "The first thing is to convert the data we collected to a format we can easily manipulate. Then we check the the size and type of data."
   ]
  },
  {
   "cell_type": "code",
   "execution_count": 2,
   "metadata": {},
   "outputs": [
    {
     "name": "stdout",
     "output_type": "stream",
     "text": [
      "(32561, 15) 0     object\n",
      "1     object\n",
      "2     object\n",
      "3     object\n",
      "4     object\n",
      "5     object\n",
      "6     object\n",
      "7     object\n",
      "8     object\n",
      "9     object\n",
      "10    object\n",
      "11    object\n",
      "12    object\n",
      "13    object\n",
      "14    object\n",
      "dtype: object\n",
      "(16281, 15) 0     object\n",
      "1     object\n",
      "2     object\n",
      "3     object\n",
      "4     object\n",
      "5     object\n",
      "6     object\n",
      "7     object\n",
      "8     object\n",
      "9     object\n",
      "10    object\n",
      "11    object\n",
      "12    object\n",
      "13    object\n",
      "14    object\n",
      "dtype: object\n",
      "   0                 1       2          3   4                   5   \\\n",
      "0  39         State-gov   77516  Bachelors  13       Never-married   \n",
      "1  50  Self-emp-not-inc   83311  Bachelors  13  Married-civ-spouse   \n",
      "2  38           Private  215646    HS-grad   9            Divorced   \n",
      "3  53           Private  234721       11th   7  Married-civ-spouse   \n",
      "4  28           Private  338409  Bachelors  13  Married-civ-spouse   \n",
      "\n",
      "                  6              7      8       9     10 11  12  \\\n",
      "0       Adm-clerical  Not-in-family  White    Male  2174  0  40   \n",
      "1    Exec-managerial        Husband  White    Male     0  0  13   \n",
      "2  Handlers-cleaners  Not-in-family  White    Male     0  0  40   \n",
      "3  Handlers-cleaners        Husband  Black    Male     0  0  40   \n",
      "4     Prof-specialty           Wife  Black  Female     0  0  40   \n",
      "\n",
      "              13     14  \n",
      "0  United-States  <=50K  \n",
      "1  United-States  <=50K  \n",
      "2  United-States  <=50K  \n",
      "3  United-States  <=50K  \n",
      "4           Cuba  <=50K  \n"
     ]
    }
   ],
   "source": [
    "import pandas as pd\n",
    "\n",
    "with open(\"data/adult.test\", \"r\") as f:\n",
    "    lines = f.readlines()\n",
    "    lines = [line.replace('.','') for line in lines[1:]]\n",
    "    data_test = pd.DataFrame([line.strip().split(\", \") for line in lines])\n",
    "    \n",
    "# print(data_test)\n",
    "\n",
    "data_train = pd.read_csv('data/adult.data', header = None)\n",
    "data_train = data_train.replace(' ', '', regex=True)\n",
    "data_train = data_train.astype(object)\n",
    "\n",
    "print(data_train.shape, data_train.dtypes)\n",
    "print(data_test.shape, data_train.dtypes)\n",
    "\n",
    "print(data_train.head())"
   ]
  },
  {
   "cell_type": "code",
   "execution_count": 3,
   "metadata": {},
   "outputs": [],
   "source": [
    "data_train.columns = ['age','workclass','fnlwgt','education','educational_num','marital-status','occupation','relationship','race','gender','capital-gain','capital-loss', 'hours-per-week','native-country','income']\n",
    "data_test.columns = ['age','workclass','fnlwgt','education','educational_num','marital-status','occupation','relationship','race','gender','capital-gain','capital-loss', 'hours-per-week','native-country','income']"
   ]
  },
  {
   "attachments": {},
   "cell_type": "markdown",
   "metadata": {},
   "source": [
    "## Data Cleaning "
   ]
  },
  {
   "attachments": {},
   "cell_type": "markdown",
   "metadata": {},
   "source": [
    "### Data Transformation \n",
    "We convert the target atrribute (i.e., \"<=50K\" and >\"50K\") to binary values (i.e., 0 and 1) that we can easily manipulate."
   ]
  },
  {
   "cell_type": "code",
   "execution_count": 4,
   "metadata": {},
   "outputs": [
    {
     "data": {
      "text/html": [
       "<div>\n",
       "<style scoped>\n",
       "    .dataframe tbody tr th:only-of-type {\n",
       "        vertical-align: middle;\n",
       "    }\n",
       "\n",
       "    .dataframe tbody tr th {\n",
       "        vertical-align: top;\n",
       "    }\n",
       "\n",
       "    .dataframe thead th {\n",
       "        text-align: right;\n",
       "    }\n",
       "</style>\n",
       "<table border=\"1\" class=\"dataframe\">\n",
       "  <thead>\n",
       "    <tr style=\"text-align: right;\">\n",
       "      <th></th>\n",
       "      <th>age</th>\n",
       "      <th>workclass</th>\n",
       "      <th>fnlwgt</th>\n",
       "      <th>education</th>\n",
       "      <th>educational_num</th>\n",
       "      <th>marital-status</th>\n",
       "      <th>occupation</th>\n",
       "      <th>relationship</th>\n",
       "      <th>race</th>\n",
       "      <th>gender</th>\n",
       "      <th>capital-gain</th>\n",
       "      <th>capital-loss</th>\n",
       "      <th>hours-per-week</th>\n",
       "      <th>native-country</th>\n",
       "      <th>income</th>\n",
       "    </tr>\n",
       "  </thead>\n",
       "  <tbody>\n",
       "    <tr>\n",
       "      <th>0</th>\n",
       "      <td>39</td>\n",
       "      <td>State-gov</td>\n",
       "      <td>77516</td>\n",
       "      <td>Bachelors</td>\n",
       "      <td>13</td>\n",
       "      <td>Never-married</td>\n",
       "      <td>Adm-clerical</td>\n",
       "      <td>Not-in-family</td>\n",
       "      <td>White</td>\n",
       "      <td>Male</td>\n",
       "      <td>2174</td>\n",
       "      <td>0</td>\n",
       "      <td>40</td>\n",
       "      <td>United-States</td>\n",
       "      <td>0</td>\n",
       "    </tr>\n",
       "    <tr>\n",
       "      <th>1</th>\n",
       "      <td>50</td>\n",
       "      <td>Self-emp-not-inc</td>\n",
       "      <td>83311</td>\n",
       "      <td>Bachelors</td>\n",
       "      <td>13</td>\n",
       "      <td>Married-civ-spouse</td>\n",
       "      <td>Exec-managerial</td>\n",
       "      <td>Husband</td>\n",
       "      <td>White</td>\n",
       "      <td>Male</td>\n",
       "      <td>0</td>\n",
       "      <td>0</td>\n",
       "      <td>13</td>\n",
       "      <td>United-States</td>\n",
       "      <td>0</td>\n",
       "    </tr>\n",
       "    <tr>\n",
       "      <th>2</th>\n",
       "      <td>38</td>\n",
       "      <td>Private</td>\n",
       "      <td>215646</td>\n",
       "      <td>HS-grad</td>\n",
       "      <td>9</td>\n",
       "      <td>Divorced</td>\n",
       "      <td>Handlers-cleaners</td>\n",
       "      <td>Not-in-family</td>\n",
       "      <td>White</td>\n",
       "      <td>Male</td>\n",
       "      <td>0</td>\n",
       "      <td>0</td>\n",
       "      <td>40</td>\n",
       "      <td>United-States</td>\n",
       "      <td>0</td>\n",
       "    </tr>\n",
       "    <tr>\n",
       "      <th>3</th>\n",
       "      <td>53</td>\n",
       "      <td>Private</td>\n",
       "      <td>234721</td>\n",
       "      <td>11th</td>\n",
       "      <td>7</td>\n",
       "      <td>Married-civ-spouse</td>\n",
       "      <td>Handlers-cleaners</td>\n",
       "      <td>Husband</td>\n",
       "      <td>Black</td>\n",
       "      <td>Male</td>\n",
       "      <td>0</td>\n",
       "      <td>0</td>\n",
       "      <td>40</td>\n",
       "      <td>United-States</td>\n",
       "      <td>0</td>\n",
       "    </tr>\n",
       "    <tr>\n",
       "      <th>4</th>\n",
       "      <td>28</td>\n",
       "      <td>Private</td>\n",
       "      <td>338409</td>\n",
       "      <td>Bachelors</td>\n",
       "      <td>13</td>\n",
       "      <td>Married-civ-spouse</td>\n",
       "      <td>Prof-specialty</td>\n",
       "      <td>Wife</td>\n",
       "      <td>Black</td>\n",
       "      <td>Female</td>\n",
       "      <td>0</td>\n",
       "      <td>0</td>\n",
       "      <td>40</td>\n",
       "      <td>Cuba</td>\n",
       "      <td>0</td>\n",
       "    </tr>\n",
       "  </tbody>\n",
       "</table>\n",
       "</div>"
      ],
      "text/plain": [
       "  age         workclass  fnlwgt  education educational_num  \\\n",
       "0  39         State-gov   77516  Bachelors              13   \n",
       "1  50  Self-emp-not-inc   83311  Bachelors              13   \n",
       "2  38           Private  215646    HS-grad               9   \n",
       "3  53           Private  234721       11th               7   \n",
       "4  28           Private  338409  Bachelors              13   \n",
       "\n",
       "       marital-status         occupation   relationship   race  gender  \\\n",
       "0       Never-married       Adm-clerical  Not-in-family  White    Male   \n",
       "1  Married-civ-spouse    Exec-managerial        Husband  White    Male   \n",
       "2            Divorced  Handlers-cleaners  Not-in-family  White    Male   \n",
       "3  Married-civ-spouse  Handlers-cleaners        Husband  Black    Male   \n",
       "4  Married-civ-spouse     Prof-specialty           Wife  Black  Female   \n",
       "\n",
       "  capital-gain capital-loss hours-per-week native-country  income  \n",
       "0         2174            0             40  United-States       0  \n",
       "1            0            0             13  United-States       0  \n",
       "2            0            0             40  United-States       0  \n",
       "3            0            0             40  United-States       0  \n",
       "4            0            0             40           Cuba       0  "
      ]
     },
     "execution_count": 4,
     "metadata": {},
     "output_type": "execute_result"
    }
   ],
   "source": [
    "data_train['income'].replace({\"<=50K\":0, \">50K\":1}, inplace = True)\n",
    "data_test['income'].replace({\"<=50K\":0, \">50K\":1}, inplace = True)\n",
    "data_train.head()"
   ]
  },
  {
   "attachments": {},
   "cell_type": "markdown",
   "metadata": {},
   "source": [
    "### Missing Value"
   ]
  },
  {
   "cell_type": "code",
   "execution_count": 5,
   "metadata": {},
   "outputs": [
    {
     "data": {
      "text/plain": [
       "age                0\n",
       "workclass          0\n",
       "fnlwgt             0\n",
       "education          0\n",
       "educational_num    0\n",
       "marital-status     0\n",
       "occupation         0\n",
       "relationship       0\n",
       "race               0\n",
       "gender             0\n",
       "capital-gain       0\n",
       "capital-loss       0\n",
       "hours-per-week     0\n",
       "native-country     0\n",
       "income             0\n",
       "dtype: int64"
      ]
     },
     "execution_count": 5,
     "metadata": {},
     "output_type": "execute_result"
    }
   ],
   "source": [
    "data_train.isnull().sum()"
   ]
  },
  {
   "attachments": {},
   "cell_type": "markdown",
   "metadata": {},
   "source": [
    "According to the results, there is no null value in the dataset. \n",
    "\n",
    "However, there are question marks (i.e., \"?\") to represent missing values. So we decided to replace them with the most frequent element (mode) in every colum."
   ]
  },
  {
   "cell_type": "code",
   "execution_count": 6,
   "metadata": {},
   "outputs": [
    {
     "name": "stdout",
     "output_type": "stream",
     "text": [
      "4262\n",
      "2203\n"
     ]
    }
   ],
   "source": [
    "count_before_tr = 0\n",
    "count_before_te = 0\n",
    "\n",
    "for i in range(len(data_train)):\n",
    "    for j in range(len(data_train.columns)):\n",
    "        if data_train.iloc[i][j] == \"?\":\n",
    "            count_before_tr += 1\n",
    "\n",
    "for i in range(len(data_test)):\n",
    "    for j in range(len(data_test.columns)):\n",
    "        if data_test.iloc[i][j] == \"?\":\n",
    "            count_before_te += 1\n",
    "        \n",
    "print(count_before_tr)\n",
    "print(count_before_te)\n",
    "\n"
   ]
  },
  {
   "cell_type": "code",
   "execution_count": 7,
   "metadata": {},
   "outputs": [],
   "source": [
    "for col in data_train:\n",
    "    mode = data_train[col].mode().values[0]\n",
    "    data_train[col].replace(\"?\", mode, inplace = True)"
   ]
  },
  {
   "cell_type": "code",
   "execution_count": 8,
   "metadata": {},
   "outputs": [],
   "source": [
    "for col in data_test:\n",
    "    mode = data_train[col].mode().values[0]\n",
    "    data_test[col].replace(\"?\", mode, inplace = True)"
   ]
  },
  {
   "cell_type": "code",
   "execution_count": 9,
   "metadata": {},
   "outputs": [
    {
     "name": "stdout",
     "output_type": "stream",
     "text": [
      "0\n",
      "0\n"
     ]
    }
   ],
   "source": [
    "count_after_tr = 0\n",
    "count_after_te = 0\n",
    "\n",
    "for i in range(len(data_train)):\n",
    "    for j in range(len(data_train.columns)):\n",
    "        if data_train.iloc[i][j] == \"?\":\n",
    "            count_after_tr +=1\n",
    "\n",
    "for i in range(len(data_test)):\n",
    "    for j in range(len(data_test.columns)):\n",
    "        if data_train.iloc[i][j] == \"?\":\n",
    "            count_after_tr +=1\n",
    "        \n",
    "print(count_after_tr)\n",
    "print(count_after_te)\n"
   ]
  },
  {
   "cell_type": "code",
   "execution_count": 10,
   "metadata": {},
   "outputs": [
    {
     "name": "stdout",
     "output_type": "stream",
     "text": [
      "(32561, 15)\n",
      "(16281, 15)\n"
     ]
    }
   ],
   "source": [
    "print(data_train.shape)\n",
    "print(data_test.shape)"
   ]
  },
  {
   "attachments": {},
   "cell_type": "markdown",
   "metadata": {},
   "source": [
    "## Export Processed Data"
   ]
  },
  {
   "cell_type": "code",
   "execution_count": 11,
   "metadata": {},
   "outputs": [],
   "source": [
    "data_train.to_csv('data/data_train.csv', index=False)\n",
    "data_test.to_csv('data/data_test.csv', index=False)"
   ]
  },
  {
   "attachments": {},
   "cell_type": "markdown",
   "metadata": {},
   "source": [
    "Double-check the data type of the output files"
   ]
  },
  {
   "cell_type": "code",
   "execution_count": 12,
   "metadata": {},
   "outputs": [
    {
     "name": "stdout",
     "output_type": "stream",
     "text": [
      "age                 int64\n",
      "workclass          object\n",
      "fnlwgt              int64\n",
      "education          object\n",
      "educational_num     int64\n",
      "marital-status     object\n",
      "occupation         object\n",
      "relationship       object\n",
      "race               object\n",
      "gender             object\n",
      "capital-gain        int64\n",
      "capital-loss        int64\n",
      "hours-per-week      int64\n",
      "native-country     object\n",
      "income              int64\n",
      "dtype: object\n",
      "age                 int64\n",
      "workclass          object\n",
      "fnlwgt              int64\n",
      "education          object\n",
      "educational_num     int64\n",
      "marital-status     object\n",
      "occupation         object\n",
      "relationship       object\n",
      "race               object\n",
      "gender             object\n",
      "capital-gain        int64\n",
      "capital-loss        int64\n",
      "hours-per-week      int64\n",
      "native-country     object\n",
      "income              int64\n",
      "dtype: object\n"
     ]
    }
   ],
   "source": [
    "\n",
    "data_train = pd.read_csv(\"data/data_train.csv\")\n",
    "data_test = pd.read_csv(\"data/data_test.csv\")\n",
    "print(data_train.dtypes)\n",
    "print(data_test.dtypes)"
   ]
  }
 ],
 "metadata": {
  "kernelspec": {
   "display_name": "Python 3 (ipykernel)",
   "language": "python",
   "name": "python3"
  },
  "language_info": {
   "codemirror_mode": {
    "name": "ipython",
    "version": 3
   },
   "file_extension": ".py",
   "mimetype": "text/x-python",
   "name": "python",
   "nbconvert_exporter": "python",
   "pygments_lexer": "ipython3",
   "version": "3.8.13"
  }
 },
 "nbformat": 4,
 "nbformat_minor": 2
}
