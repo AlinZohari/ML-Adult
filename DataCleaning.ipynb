{
 "cells": [
  {
   "cell_type": "code",
   "execution_count": 1,
   "metadata": {},
   "outputs": [
    {
     "name": "stdout",
     "output_type": "stream",
     "text": [
      "(32561, 15)\n",
      "(16282, 15)\n",
      "   0                 1       2          3   4                   5   \\\n",
      "0  39         State-gov   77516  Bachelors  13       Never-married   \n",
      "1  50  Self-emp-not-inc   83311  Bachelors  13  Married-civ-spouse   \n",
      "2  38           Private  215646    HS-grad   9            Divorced   \n",
      "3  53           Private  234721       11th   7  Married-civ-spouse   \n",
      "4  28           Private  338409  Bachelors  13  Married-civ-spouse   \n",
      "\n",
      "                  6              7      8       9     10  11  12  \\\n",
      "0       Adm-clerical  Not-in-family  White    Male  2174   0  40   \n",
      "1    Exec-managerial        Husband  White    Male     0   0  13   \n",
      "2  Handlers-cleaners  Not-in-family  White    Male     0   0  40   \n",
      "3  Handlers-cleaners        Husband  Black    Male     0   0  40   \n",
      "4     Prof-specialty           Wife  Black  Female     0   0  40   \n",
      "\n",
      "              13     14  \n",
      "0  United-States  <=50K  \n",
      "1  United-States  <=50K  \n",
      "2  United-States  <=50K  \n",
      "3  United-States  <=50K  \n",
      "4           Cuba  <=50K  \n"
     ]
    }
   ],
   "source": [
    "import pandas as pd\n",
    "\n",
    "with open(\"adult.test\", \"r\") as f:\n",
    "    lines = f.readlines()\n",
    "    lines = [line.replace('.','') for line in lines[1:]]\n",
    "    data_valid = pd.DataFrame([line.strip().split(\", \") for line in lines])\n",
    "    \n",
    "# print(data_valid)\n",
    "\n",
    "data_train = pd.read_csv('adult.data', header = None)\n",
    "data_train = data_train.replace(' ', '', regex=True)\n",
    "\n",
    "print(data_train.shape)\n",
    "print(data_valid.shape)\n",
    "\n",
    "print(data_train.head())"
   ]
  },
  {
   "cell_type": "code",
   "execution_count": 2,
   "metadata": {},
   "outputs": [
    {
     "data": {
      "text/html": [
       "<div>\n",
       "<style scoped>\n",
       "    .dataframe tbody tr th:only-of-type {\n",
       "        vertical-align: middle;\n",
       "    }\n",
       "\n",
       "    .dataframe tbody tr th {\n",
       "        vertical-align: top;\n",
       "    }\n",
       "\n",
       "    .dataframe thead th {\n",
       "        text-align: right;\n",
       "    }\n",
       "</style>\n",
       "<table border=\"1\" class=\"dataframe\">\n",
       "  <thead>\n",
       "    <tr style=\"text-align: right;\">\n",
       "      <th></th>\n",
       "      <th>age</th>\n",
       "      <th>workclass</th>\n",
       "      <th>fnlwgt</th>\n",
       "      <th>education</th>\n",
       "      <th>educational_num</th>\n",
       "      <th>marital-status</th>\n",
       "      <th>occupation</th>\n",
       "      <th>relationship</th>\n",
       "      <th>race</th>\n",
       "      <th>gender</th>\n",
       "      <th>capital-gain</th>\n",
       "      <th>capital-loss</th>\n",
       "      <th>hours-per-week</th>\n",
       "      <th>native-country</th>\n",
       "      <th>income</th>\n",
       "    </tr>\n",
       "  </thead>\n",
       "  <tbody>\n",
       "    <tr>\n",
       "      <th>0</th>\n",
       "      <td>39</td>\n",
       "      <td>State-gov</td>\n",
       "      <td>77516</td>\n",
       "      <td>Bachelors</td>\n",
       "      <td>13</td>\n",
       "      <td>Never-married</td>\n",
       "      <td>Adm-clerical</td>\n",
       "      <td>Not-in-family</td>\n",
       "      <td>White</td>\n",
       "      <td>Male</td>\n",
       "      <td>2174</td>\n",
       "      <td>0</td>\n",
       "      <td>40</td>\n",
       "      <td>United-States</td>\n",
       "      <td>0</td>\n",
       "    </tr>\n",
       "    <tr>\n",
       "      <th>1</th>\n",
       "      <td>50</td>\n",
       "      <td>Self-emp-not-inc</td>\n",
       "      <td>83311</td>\n",
       "      <td>Bachelors</td>\n",
       "      <td>13</td>\n",
       "      <td>Married-civ-spouse</td>\n",
       "      <td>Exec-managerial</td>\n",
       "      <td>Husband</td>\n",
       "      <td>White</td>\n",
       "      <td>Male</td>\n",
       "      <td>0</td>\n",
       "      <td>0</td>\n",
       "      <td>13</td>\n",
       "      <td>United-States</td>\n",
       "      <td>0</td>\n",
       "    </tr>\n",
       "    <tr>\n",
       "      <th>2</th>\n",
       "      <td>38</td>\n",
       "      <td>Private</td>\n",
       "      <td>215646</td>\n",
       "      <td>HS-grad</td>\n",
       "      <td>9</td>\n",
       "      <td>Divorced</td>\n",
       "      <td>Handlers-cleaners</td>\n",
       "      <td>Not-in-family</td>\n",
       "      <td>White</td>\n",
       "      <td>Male</td>\n",
       "      <td>0</td>\n",
       "      <td>0</td>\n",
       "      <td>40</td>\n",
       "      <td>United-States</td>\n",
       "      <td>0</td>\n",
       "    </tr>\n",
       "    <tr>\n",
       "      <th>3</th>\n",
       "      <td>53</td>\n",
       "      <td>Private</td>\n",
       "      <td>234721</td>\n",
       "      <td>11th</td>\n",
       "      <td>7</td>\n",
       "      <td>Married-civ-spouse</td>\n",
       "      <td>Handlers-cleaners</td>\n",
       "      <td>Husband</td>\n",
       "      <td>Black</td>\n",
       "      <td>Male</td>\n",
       "      <td>0</td>\n",
       "      <td>0</td>\n",
       "      <td>40</td>\n",
       "      <td>United-States</td>\n",
       "      <td>0</td>\n",
       "    </tr>\n",
       "    <tr>\n",
       "      <th>4</th>\n",
       "      <td>28</td>\n",
       "      <td>Private</td>\n",
       "      <td>338409</td>\n",
       "      <td>Bachelors</td>\n",
       "      <td>13</td>\n",
       "      <td>Married-civ-spouse</td>\n",
       "      <td>Prof-specialty</td>\n",
       "      <td>Wife</td>\n",
       "      <td>Black</td>\n",
       "      <td>Female</td>\n",
       "      <td>0</td>\n",
       "      <td>0</td>\n",
       "      <td>40</td>\n",
       "      <td>Cuba</td>\n",
       "      <td>0</td>\n",
       "    </tr>\n",
       "  </tbody>\n",
       "</table>\n",
       "</div>"
      ],
      "text/plain": [
       "   age         workclass  fnlwgt  education  educational_num  \\\n",
       "0   39         State-gov   77516  Bachelors               13   \n",
       "1   50  Self-emp-not-inc   83311  Bachelors               13   \n",
       "2   38           Private  215646    HS-grad                9   \n",
       "3   53           Private  234721       11th                7   \n",
       "4   28           Private  338409  Bachelors               13   \n",
       "\n",
       "       marital-status         occupation   relationship   race  gender  \\\n",
       "0       Never-married       Adm-clerical  Not-in-family  White    Male   \n",
       "1  Married-civ-spouse    Exec-managerial        Husband  White    Male   \n",
       "2            Divorced  Handlers-cleaners  Not-in-family  White    Male   \n",
       "3  Married-civ-spouse  Handlers-cleaners        Husband  Black    Male   \n",
       "4  Married-civ-spouse     Prof-specialty           Wife  Black  Female   \n",
       "\n",
       "   capital-gain  capital-loss  hours-per-week native-country  income  \n",
       "0          2174             0              40  United-States       0  \n",
       "1             0             0              13  United-States       0  \n",
       "2             0             0              40  United-States       0  \n",
       "3             0             0              40  United-States       0  \n",
       "4             0             0              40           Cuba       0  "
      ]
     },
     "execution_count": 2,
     "metadata": {},
     "output_type": "execute_result"
    }
   ],
   "source": [
    "data_train.columns = ['age','workclass','fnlwgt','education','educational_num','marital-status','occupation','relationship','race','gender','capital-gain','capital-loss', 'hours-per-week','native-country','income']\n",
    "data_valid.columns = ['age','workclass','fnlwgt','education','educational_num','marital-status','occupation','relationship','race','gender','capital-gain','capital-loss', 'hours-per-week','native-country','income']\n",
    "\n",
    "\n",
    "data_train['income'].replace({\"<=50K\":0, \">50K\":1}, inplace = True)\n",
    "data_valid['income'].replace({\"<=50K\":0, \">50K\":1}, inplace = True)\n",
    "data_train.head()"
   ]
  },
  {
   "cell_type": "code",
   "execution_count": 3,
   "metadata": {},
   "outputs": [
    {
     "name": "stdout",
     "output_type": "stream",
     "text": [
      "4262\n",
      "2203\n"
     ]
    }
   ],
   "source": [
    "count_before_tr = 0\n",
    "count_before_va = 0\n",
    "\n",
    "for i in range(len(data_train)):\n",
    "    for j in range(len(data_train.columns)):\n",
    "        if data_train.iloc[i][j] == \"?\":\n",
    "            count_before_tr += 1\n",
    "\n",
    "for i in range(len(data_valid)):\n",
    "    for j in range(len(data_valid.columns)):\n",
    "        if data_valid.iloc[i][j] == \"?\":\n",
    "            count_before_va += 1\n",
    "        \n",
    "print(count_before_tr)\n",
    "print(count_before_va)\n",
    "\n"
   ]
  },
  {
   "cell_type": "code",
   "execution_count": 4,
   "metadata": {},
   "outputs": [],
   "source": [
    "for col in data_train:\n",
    "    mode = data_train[col].mode().values[0]\n",
    "    data_train[col].replace(\"?\", mode, inplace = True)"
   ]
  },
  {
   "cell_type": "code",
   "execution_count": 5,
   "metadata": {},
   "outputs": [],
   "source": [
    "for col in data_valid:\n",
    "    mode = data_train[col].mode().values[0]\n",
    "    data_valid[col].replace(\"?\", mode, inplace = True)"
   ]
  },
  {
   "cell_type": "code",
   "execution_count": 6,
   "metadata": {},
   "outputs": [
    {
     "name": "stdout",
     "output_type": "stream",
     "text": [
      "0\n",
      "0\n"
     ]
    }
   ],
   "source": [
    "count_after_tr = 0\n",
    "count_after_va = 0\n",
    "\n",
    "for i in range(len(data_train)):\n",
    "    for j in range(len(data_train.columns)):\n",
    "        if data_train.iloc[i][j] == \"?\":\n",
    "            count_after_tr +=1\n",
    "\n",
    "for i in range(len(data_valid)):\n",
    "    for j in range(len(data_valid.columns)):\n",
    "        if data_train.iloc[i][j] == \"?\":\n",
    "            count_after_tr +=1\n",
    "        \n",
    "print(count_after_tr)\n",
    "print(count_after_va)\n"
   ]
  },
  {
   "cell_type": "code",
   "execution_count": 7,
   "metadata": {},
   "outputs": [
    {
     "name": "stdout",
     "output_type": "stream",
     "text": [
      "(32561, 15)\n",
      "(16282, 15)\n"
     ]
    }
   ],
   "source": [
    "print(data_train.shape)\n",
    "print(data_valid.shape)"
   ]
  },
  {
   "cell_type": "code",
   "execution_count": 9,
   "metadata": {},
   "outputs": [],
   "source": [
    "data_train.to_csv('data_train.csv', index=False)\n",
    "data_valid.to_csv('data_valid.csv', index=False)"
   ]
  }
 ],
 "metadata": {
  "kernelspec": {
   "display_name": "Python 3",
   "language": "python",
   "name": "python3"
  },
  "language_info": {
   "codemirror_mode": {
    "name": "ipython",
    "version": 3
   },
   "file_extension": ".py",
   "mimetype": "text/x-python",
   "name": "python",
   "nbconvert_exporter": "python",
   "pygments_lexer": "ipython3",
   "version": "3.9.13"
  },
  "orig_nbformat": 4
 },
 "nbformat": 4,
 "nbformat_minor": 2
}
