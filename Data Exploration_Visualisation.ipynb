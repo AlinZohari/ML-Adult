{
 "cells": [
  {
   "attachments": {},
   "cell_type": "markdown",
   "metadata": {},
   "source": [
    "# Data Exploration\n",
    "\n"
   ]
  },
  {
   "attachments": {},
   "cell_type": "markdown",
   "metadata": {},
   "source": [
    "## 1. Looking at the Data"
   ]
  },
  {
   "cell_type": "code",
   "execution_count": null,
   "metadata": {},
   "outputs": [],
   "source": [
    "import pandas as pd\n",
    "import matplotlib.pyplot as plt\n",
    "import seaborn as sns\n",
    "\n",
    "#load the cleaned datasets\n",
    "data_train =  pd.read_csv(\"data_train.csv\")\n",
    "data_test = pd.read_csv(\"data_test.csv\")\n",
    "\n",
    "print(data_train.head())\n",
    "#print(data_test.head())\n"
   ]
  },
  {
   "attachments": {},
   "cell_type": "markdown",
   "metadata": {},
   "source": [
    "In this cleaned datasets train and test, the income attribute were transformed 0 to be <=50k and 1 to be >50k"
   ]
  },
  {
   "cell_type": "code",
   "execution_count": null,
   "metadata": {},
   "outputs": [],
   "source": [
    "dfx = pd.DataFrame(data_train, columns = ['age', 'workclass', 'fnlwgt', 'education', 'educational_num', 'marital-status', 'occupation', 'relationship','race', 'gender', 'capital-gain', 'capital-loss', 'hours-per-week', 'native-country'], )\n",
    "dfy = pd.DataFrame(data_train, columns = ['income'])\n",
    "\n",
    "#print(data_train)\n",
    "#print (dfx)\n",
    "#print (dfy)\n"
   ]
  },
  {
   "attachments": {},
   "cell_type": "markdown",
   "metadata": {},
   "source": [
    "The content of this dataframe"
   ]
  },
  {
   "cell_type": "code",
   "execution_count": null,
   "metadata": {},
   "outputs": [],
   "source": [
    "data_train.head()"
   ]
  },
  {
   "attachments": {},
   "cell_type": "markdown",
   "metadata": {},
   "source": [
    "Looking at some stastistics of the dataframe - for the numeric attribute"
   ]
  },
  {
   "cell_type": "code",
   "execution_count": null,
   "metadata": {},
   "outputs": [],
   "source": [
    "data_train.shape"
   ]
  },
  {
   "attachments": {},
   "cell_type": "markdown",
   "metadata": {},
   "source": [
    "Looking at the data type of each attribute"
   ]
  },
  {
   "cell_type": "code",
   "execution_count": null,
   "metadata": {},
   "outputs": [],
   "source": [
    "data_train.info()"
   ]
  },
  {
   "attachments": {},
   "cell_type": "markdown",
   "metadata": {},
   "source": [
    "Looking at the statistics of the dataframe - for the numeric attributes"
   ]
  },
  {
   "cell_type": "code",
   "execution_count": null,
   "metadata": {},
   "outputs": [],
   "source": [
    "data_num = data_train.drop([\"educational_num\",\"income\"], axis=1)\n",
    "#axis=1: we want to drop columns rather than rows\n",
    "data_num.describe()"
   ]
  },
  {
   "attachments": {},
   "cell_type": "markdown",
   "metadata": {},
   "source": [
    "Looking at some statistics of the dataframe - for the categorical attribute"
   ]
  },
  {
   "cell_type": "code",
   "execution_count": null,
   "metadata": {},
   "outputs": [],
   "source": [
    "data_train.describe(include=[\"O\"])\n",
    "#the [\"O\"] is to include the parameter only column with dtype \"object\"\n",
    "#i.e., columns that contain string or mixed data types"
   ]
  },
  {
   "attachments": {},
   "cell_type": "markdown",
   "metadata": {},
   "source": [
    "## 2. Visualysing the Data Attributes and its Correlation"
   ]
  },
  {
   "attachments": {},
   "cell_type": "markdown",
   "metadata": {},
   "source": [
    "Adapted from kaggle: [Simple EDA for Beginner](https://www.kaggle.com/code/alokevil/simple-eda-for-beginners#5.-EDA)"
   ]
  },
  {
   "attachments": {},
   "cell_type": "markdown",
   "metadata": {},
   "source": [
    "### 2.1 Distribution for numeric attributes\n",
    "\n",
    "This will include six attribute which are:\n",
    "\n",
    "1. age\n",
    "2. fnlwgt\n",
    "3. education-num\n",
    "4. hours-per-week\n",
    "5. capital-gain\n",
    "6. capital-loss"
   ]
  },
  {
   "cell_type": "code",
   "execution_count": null,
   "metadata": {},
   "outputs": [],
   "source": [
    "#age\n",
    "data_train['age'].hist(figsize=(8,8))\n",
    "plt.xlabel('Age')\n",
    "plt.ylabel('Frequency')\n",
    "plt.show()\n",
    "#plt.savefig('age_histogram.jpg') -dont know how to output to the right folder\n",
    "\n",
    "#fnlwgt\n",
    "data_train['fnlwgt'].hist(figsize=(8,8))\n",
    "plt.xlabel('Fnlwgt')\n",
    "plt.ylabel('Frequency')\n",
    "plt.show()\n",
    "\n",
    "#educational-num\n",
    "data_train['educational_num'].hist(figsize=(8,8))\n",
    "plt.xlabel('Education-num')\n",
    "plt.ylabel('Frequency')\n",
    "plt.show()\n",
    "\n",
    "#hours-per-week\n",
    "data_train['hours-per-week'].hist(figsize=(8,8))\n",
    "plt.xlabel('Hours-per-week')\n",
    "plt.ylabel('Frequency')\n",
    "plt.show()\n",
    "\n",
    "#capital-gain\n",
    "data_train['capital-gain'].hist(figsize=(8,8))\n",
    "plt.xlabel('Capital-gain')\n",
    "plt.ylabel('Frequency')\n",
    "plt.show()\n",
    "\n",
    "#capital-loss\n",
    "data_train['capital-loss'].hist(figsize=(8,8))\n",
    "plt.xlabel('Capital-loss')\n",
    "plt.ylabel('Frequency')\n",
    "plt.show()"
   ]
  },
  {
   "attachments": {},
   "cell_type": "markdown",
   "metadata": {},
   "source": [
    "### 2.2 Distribution for categorical attribute\n",
    "\n",
    "This include 8 attribute which are:\n",
    "\n",
    "1. workclass\n",
    "2. education\n",
    "3. marital-status\n",
    "4. occupation\n",
    "5. relationship\n",
    "6. race\n",
    "7. sex\n",
    "8. native country\n",
    "\n",
    "education-num too? - (i think educationa and education-num is redundant)\n"
   ]
  },
  {
   "cell_type": "code",
   "execution_count": null,
   "metadata": {},
   "outputs": [],
   "source": [
    "#workclass\n",
    "plt.figure(figsize=(12,8))\n",
    "\n",
    "total = float(len(data_train[\"income\"]) )\n",
    "\n",
    "ax = sns.countplot(x=\"workclass\", data=data_train)\n",
    "for p in ax.patches:\n",
    "    height = p.get_height()\n",
    "    ax.text(p.get_x()+p.get_width()/2.,\n",
    "            height + 3,\n",
    "            '{:1.2f}'.format((height/total)*100),\n",
    "            ha=\"center\") \n",
    "plt.show()\n",
    "\n",
    "\n",
    "#education\n",
    "plt.figure(figsize=(20,8))\n",
    "total = float(len(data_train[\"income\"]) )\n",
    "\n",
    "ax = sns.countplot(x=\"education\", data=data_train)\n",
    "for p in ax.patches:\n",
    "    height = p.get_height()\n",
    "    ax.text(p.get_x()+p.get_width()/2.,\n",
    "            height + 3,\n",
    "            '{:1.2f}'.format((height/total)*100),\n",
    "            ha=\"center\") \n",
    "plt.show()\n",
    "\n",
    "#marital-status\n",
    "plt.figure(figsize=(15,8))\n",
    "total = float(len(data_train))\n",
    "\n",
    "ax = sns.countplot(x=\"marital-status\", data=data_train)\n",
    "for p in ax.patches:\n",
    "    height = p.get_height()\n",
    "    ax.text(p.get_x()+p.get_width()/2.,\n",
    "            height + 3,\n",
    "            '{:1.2f}'.format((height/total)*100),\n",
    "            ha=\"center\") \n",
    "plt.show()\n",
    "\n",
    "\n",
    "#occupation\n",
    "plt.figure(figsize=(25,8))\n",
    "total = float(len(data_train) )\n",
    "\n",
    "ax = sns.countplot(x=\"occupation\", data=data_train)\n",
    "for p in ax.patches:\n",
    "    height = p.get_height()\n",
    "    ax.text(p.get_x()+p.get_width()/2.,\n",
    "            height + 3,\n",
    "            '{:1.2f}'.format((height/total)*100),\n",
    "            ha=\"center\") \n",
    "plt.show()\n",
    "\n",
    "\n",
    "#relationship\n",
    "plt.figure(figsize=(15,8))\n",
    "total = float(len(data_train) )\n",
    "\n",
    "ax = sns.countplot(x=\"relationship\", data=data_train)\n",
    "for p in ax.patches:\n",
    "    height = p.get_height()\n",
    "    ax.text(p.get_x()+p.get_width()/2.,\n",
    "            height + 3,\n",
    "            '{:1.2f}'.format((height/total)*100),\n",
    "            ha=\"center\") \n",
    "plt.show()\n",
    "\n",
    "\n",
    "#race\n",
    "plt.figure(figsize=(15,8))\n",
    "total = float(len(data_train) )\n",
    "\n",
    "ax = sns.countplot(x=\"race\", data=data_train)\n",
    "for p in ax.patches:\n",
    "    height = p.get_height()\n",
    "    ax.text(p.get_x()+p.get_width()/2.,\n",
    "            height + 3,\n",
    "            '{:1.2f}'.format((height/total)*100),\n",
    "            ha=\"center\") \n",
    "plt.show()\n",
    "\n",
    "\n",
    "#gender\n",
    "plt.figure(figsize=(8,8))\n",
    "total = float(len(data_train) )\n",
    "\n",
    "ax = sns.countplot(x=\"gender\", data=data_train)\n",
    "for p in ax.patches:\n",
    "    height = p.get_height()\n",
    "    ax.text(p.get_x()+p.get_width()/2.,\n",
    "            height + 3,\n",
    "            '{:1.2f}'.format((height/total)*100),\n",
    "            ha=\"center\") \n",
    "plt.show()\n",
    "\n",
    "\n",
    "#native-country\n",
    "plt.figure(figsize=(18,8))\n",
    "total = float(len(data_train) )\n",
    "\n",
    "ax = sns.countplot(y=\"native-country\", data=data_train)\n",
    "for p in ax.patches:\n",
    "    height = p.get_height()\n",
    "    ax.text(p.get_x()+p.get_width()/2.,\n",
    "            height + 3,\n",
    "            '{:1.2f}'.format((height/total)*100),\n",
    "            ha=\"center\") \n",
    "plt.show()\n"
   ]
  },
  {
   "attachments": {},
   "cell_type": "markdown",
   "metadata": {},
   "source": [
    "## 3. Visualysing the distribution of Income (0:<=50k and 1:>50k)\n"
   ]
  },
  {
   "cell_type": "code",
   "execution_count": null,
   "metadata": {},
   "outputs": [],
   "source": [
    "#describing the target income\n",
    "dfy.describe()"
   ]
  },
  {
   "cell_type": "code",
   "execution_count": null,
   "metadata": {},
   "outputs": [],
   "source": [
    "dfy.value_counts(\"income\")"
   ]
  },
  {
   "cell_type": "code",
   "execution_count": null,
   "metadata": {},
   "outputs": [],
   "source": [
    "\n",
    "#plotting the histogram\n",
    "plt.figure(figsize=(7,7))\n",
    "total = float(len(data_train) )\n",
    "\n",
    "ax = sns.countplot(x=\"income\", data=data_train)\n",
    "for p in ax.patches:\n",
    "    height = p.get_height()\n",
    "    ax.text(p.get_x()+p.get_width()/2.,\n",
    "            height + 3,\n",
    "            '{:1.2f}'.format((height/total)*100),\n",
    "            ha=\"center\") \n",
    "plt.show()"
   ]
  },
  {
   "attachments": {},
   "cell_type": "markdown",
   "metadata": {},
   "source": [
    "## 4. Data Transformation\n"
   ]
  },
  {
   "cell_type": "code",
   "execution_count": null,
   "metadata": {},
   "outputs": [],
   "source": [
    "from sklearn.preprocessing import LabelEncoder\n",
    "\n",
    "\n",
    "# Select the categorical columns to encode\n",
    "cat_columns = [\"workclass\", \"education\", \"marital-status\", \"occupation\", \"relationship\", \"race\", \"gender\", \"native-country\"]\n",
    "\n",
    "# Encode categorical columns using Label Encoding for data_train\n",
    "le = LabelEncoder()\n",
    "for col in cat_columns:\n",
    "    data_train[col] = le.fit_transform(data_train[col])\n",
    "\n",
    "# Encode categorical columns using Label Encoding for data_test\n",
    "le = LabelEncoder()\n",
    "for col in cat_columns:\n",
    "    data_test[col] = le.fit_transform(data_test[col])\n",
    "\n",
    "\n",
    "# Print the first 5 rows of the transformed dataset\n",
    "print(data_train.head())\n",
    "#print(data_test.head())\n",
    "\n"
   ]
  },
  {
   "attachments": {},
   "cell_type": "markdown",
   "metadata": {},
   "source": [
    "## 5.Correlation betweeen the Attributes"
   ]
  },
  {
   "cell_type": "code",
   "execution_count": null,
   "metadata": {},
   "outputs": [],
   "source": [
    "data_train.corr(method='pearson')"
   ]
  },
  {
   "cell_type": "code",
   "execution_count": null,
   "metadata": {},
   "outputs": [],
   "source": [
    "sns.heatmap(data_train.corr(method='pearson'),annot=True);\n",
    "plt.show()"
   ]
  }
 ],
 "metadata": {
  "kernelspec": {
   "display_name": "geospatial",
   "language": "python",
   "name": "python3"
  },
  "language_info": {
   "codemirror_mode": {
    "name": "ipython",
    "version": 3
   },
   "file_extension": ".py",
   "mimetype": "text/x-python",
   "name": "python",
   "nbconvert_exporter": "python",
   "pygments_lexer": "ipython3",
   "version": "3.8.16"
  },
  "orig_nbformat": 4
 },
 "nbformat": 4,
 "nbformat_minor": 2
}
