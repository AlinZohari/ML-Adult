{
 "cells": [
  {
   "cell_type": "markdown",
   "metadata": {},
   "source": [
    "# Data Exploration\n",
    "\n"
   ]
  },
  {
   "cell_type": "markdown",
   "metadata": {},
   "source": [
    "## 1. Looking at the Data"
   ]
  },
  {
   "cell_type": "code",
   "execution_count": 2,
   "metadata": {},
   "outputs": [
    {
     "name": "stdout",
     "output_type": "stream",
     "text": [
      "   age         workclass  fnlwgt  education  educational_num  \\\n",
      "0   39         State-gov   77516  Bachelors               13   \n",
      "1   50  Self-emp-not-inc   83311  Bachelors               13   \n",
      "2   38           Private  215646    HS-grad                9   \n",
      "3   53           Private  234721       11th                7   \n",
      "4   28           Private  338409  Bachelors               13   \n",
      "\n",
      "       marital-status         occupation   relationship   race  gender  \\\n",
      "0       Never-married       Adm-clerical  Not-in-family  White    Male   \n",
      "1  Married-civ-spouse    Exec-managerial        Husband  White    Male   \n",
      "2            Divorced  Handlers-cleaners  Not-in-family  White    Male   \n",
      "3  Married-civ-spouse  Handlers-cleaners        Husband  Black    Male   \n",
      "4  Married-civ-spouse     Prof-specialty           Wife  Black  Female   \n",
      "\n",
      "   capital-gain  capital-loss  hours-per-week native-country  income  \n",
      "0          2174             0              40  United-States       0  \n",
      "1             0             0              13  United-States       0  \n",
      "2             0             0              40  United-States       0  \n",
      "3             0             0              40  United-States       0  \n",
      "4             0             0              40           Cuba       0  \n"
     ]
    }
   ],
   "source": [
    "import pandas as pd\n",
    "import matplotlib.pyplot as plt\n",
    "import seaborn as sns\n",
    "\n",
    "#load the cleaned datasets\n",
    "data_train =  pd.read_csv(\"data_train.csv\")\n",
    "data_test = pd.read_csv(\"data_test.csv\")\n",
    "\n",
    "print(data_train.head())\n",
    "#print(data_test.head())\n"
   ]
  },
  {
   "cell_type": "markdown",
   "metadata": {},
   "source": [
    "In this cleaned datasets train and test, the income attribute were transformed 0 to be <=50k and 1 to be >50k"
   ]
  },
  {
   "cell_type": "code",
   "execution_count": 3,
   "metadata": {},
   "outputs": [],
   "source": [
    "dfx = pd.DataFrame(data_train, columns = ['age', 'workclass', 'fnlwgt', 'education', 'educational_num', 'marital-status', 'occupation', 'relationship','race', 'gender', 'capital-gain', 'capital-loss', 'hours-per-week', 'native-country'], )\n",
    "dfy = pd.DataFrame(data_train, columns = ['income'])\n",
    "\n",
    "#print(data_train)\n",
    "#print (dfx)\n",
    "#print (dfy)\n"
   ]
  },
  {
   "cell_type": "markdown",
   "metadata": {},
   "source": [
    "The content of this dataframe"
   ]
  },
  {
   "cell_type": "code",
   "execution_count": 4,
   "metadata": {},
   "outputs": [
    {
     "data": {
      "text/html": [
       "<div>\n",
       "<style scoped>\n",
       "    .dataframe tbody tr th:only-of-type {\n",
       "        vertical-align: middle;\n",
       "    }\n",
       "\n",
       "    .dataframe tbody tr th {\n",
       "        vertical-align: top;\n",
       "    }\n",
       "\n",
       "    .dataframe thead th {\n",
       "        text-align: right;\n",
       "    }\n",
       "</style>\n",
       "<table border=\"1\" class=\"dataframe\">\n",
       "  <thead>\n",
       "    <tr style=\"text-align: right;\">\n",
       "      <th></th>\n",
       "      <th>age</th>\n",
       "      <th>workclass</th>\n",
       "      <th>fnlwgt</th>\n",
       "      <th>education</th>\n",
       "      <th>educational_num</th>\n",
       "      <th>marital-status</th>\n",
       "      <th>occupation</th>\n",
       "      <th>relationship</th>\n",
       "      <th>race</th>\n",
       "      <th>gender</th>\n",
       "      <th>capital-gain</th>\n",
       "      <th>capital-loss</th>\n",
       "      <th>hours-per-week</th>\n",
       "      <th>native-country</th>\n",
       "      <th>income</th>\n",
       "    </tr>\n",
       "  </thead>\n",
       "  <tbody>\n",
       "    <tr>\n",
       "      <th>0</th>\n",
       "      <td>39</td>\n",
       "      <td>State-gov</td>\n",
       "      <td>77516</td>\n",
       "      <td>Bachelors</td>\n",
       "      <td>13</td>\n",
       "      <td>Never-married</td>\n",
       "      <td>Adm-clerical</td>\n",
       "      <td>Not-in-family</td>\n",
       "      <td>White</td>\n",
       "      <td>Male</td>\n",
       "      <td>2174</td>\n",
       "      <td>0</td>\n",
       "      <td>40</td>\n",
       "      <td>United-States</td>\n",
       "      <td>0</td>\n",
       "    </tr>\n",
       "    <tr>\n",
       "      <th>1</th>\n",
       "      <td>50</td>\n",
       "      <td>Self-emp-not-inc</td>\n",
       "      <td>83311</td>\n",
       "      <td>Bachelors</td>\n",
       "      <td>13</td>\n",
       "      <td>Married-civ-spouse</td>\n",
       "      <td>Exec-managerial</td>\n",
       "      <td>Husband</td>\n",
       "      <td>White</td>\n",
       "      <td>Male</td>\n",
       "      <td>0</td>\n",
       "      <td>0</td>\n",
       "      <td>13</td>\n",
       "      <td>United-States</td>\n",
       "      <td>0</td>\n",
       "    </tr>\n",
       "    <tr>\n",
       "      <th>2</th>\n",
       "      <td>38</td>\n",
       "      <td>Private</td>\n",
       "      <td>215646</td>\n",
       "      <td>HS-grad</td>\n",
       "      <td>9</td>\n",
       "      <td>Divorced</td>\n",
       "      <td>Handlers-cleaners</td>\n",
       "      <td>Not-in-family</td>\n",
       "      <td>White</td>\n",
       "      <td>Male</td>\n",
       "      <td>0</td>\n",
       "      <td>0</td>\n",
       "      <td>40</td>\n",
       "      <td>United-States</td>\n",
       "      <td>0</td>\n",
       "    </tr>\n",
       "    <tr>\n",
       "      <th>3</th>\n",
       "      <td>53</td>\n",
       "      <td>Private</td>\n",
       "      <td>234721</td>\n",
       "      <td>11th</td>\n",
       "      <td>7</td>\n",
       "      <td>Married-civ-spouse</td>\n",
       "      <td>Handlers-cleaners</td>\n",
       "      <td>Husband</td>\n",
       "      <td>Black</td>\n",
       "      <td>Male</td>\n",
       "      <td>0</td>\n",
       "      <td>0</td>\n",
       "      <td>40</td>\n",
       "      <td>United-States</td>\n",
       "      <td>0</td>\n",
       "    </tr>\n",
       "    <tr>\n",
       "      <th>4</th>\n",
       "      <td>28</td>\n",
       "      <td>Private</td>\n",
       "      <td>338409</td>\n",
       "      <td>Bachelors</td>\n",
       "      <td>13</td>\n",
       "      <td>Married-civ-spouse</td>\n",
       "      <td>Prof-specialty</td>\n",
       "      <td>Wife</td>\n",
       "      <td>Black</td>\n",
       "      <td>Female</td>\n",
       "      <td>0</td>\n",
       "      <td>0</td>\n",
       "      <td>40</td>\n",
       "      <td>Cuba</td>\n",
       "      <td>0</td>\n",
       "    </tr>\n",
       "  </tbody>\n",
       "</table>\n",
       "</div>"
      ],
      "text/plain": [
       "   age         workclass  fnlwgt  education  educational_num  \\\n",
       "0   39         State-gov   77516  Bachelors               13   \n",
       "1   50  Self-emp-not-inc   83311  Bachelors               13   \n",
       "2   38           Private  215646    HS-grad                9   \n",
       "3   53           Private  234721       11th                7   \n",
       "4   28           Private  338409  Bachelors               13   \n",
       "\n",
       "       marital-status         occupation   relationship   race  gender  \\\n",
       "0       Never-married       Adm-clerical  Not-in-family  White    Male   \n",
       "1  Married-civ-spouse    Exec-managerial        Husband  White    Male   \n",
       "2            Divorced  Handlers-cleaners  Not-in-family  White    Male   \n",
       "3  Married-civ-spouse  Handlers-cleaners        Husband  Black    Male   \n",
       "4  Married-civ-spouse     Prof-specialty           Wife  Black  Female   \n",
       "\n",
       "   capital-gain  capital-loss  hours-per-week native-country  income  \n",
       "0          2174             0              40  United-States       0  \n",
       "1             0             0              13  United-States       0  \n",
       "2             0             0              40  United-States       0  \n",
       "3             0             0              40  United-States       0  \n",
       "4             0             0              40           Cuba       0  "
      ]
     },
     "execution_count": 4,
     "metadata": {},
     "output_type": "execute_result"
    }
   ],
   "source": [
    "data_train.head()"
   ]
  },
  {
   "cell_type": "markdown",
   "metadata": {},
   "source": [
    "Looking at some stastistics of the dataframe - for the numeric attribute"
   ]
  },
  {
   "cell_type": "code",
   "execution_count": 5,
   "metadata": {},
   "outputs": [
    {
     "data": {
      "text/plain": [
       "(32561, 15)"
      ]
     },
     "execution_count": 5,
     "metadata": {},
     "output_type": "execute_result"
    }
   ],
   "source": [
    "data_train.shape"
   ]
  },
  {
   "cell_type": "markdown",
   "metadata": {},
   "source": [
    "Looking at the data type of each attribute"
   ]
  },
  {
   "cell_type": "code",
   "execution_count": 6,
   "metadata": {},
   "outputs": [
    {
     "name": "stdout",
     "output_type": "stream",
     "text": [
      "<class 'pandas.core.frame.DataFrame'>\n",
      "RangeIndex: 32561 entries, 0 to 32560\n",
      "Data columns (total 15 columns):\n",
      " #   Column           Non-Null Count  Dtype \n",
      "---  ------           --------------  ----- \n",
      " 0   age              32561 non-null  int64 \n",
      " 1   workclass        32561 non-null  object\n",
      " 2   fnlwgt           32561 non-null  int64 \n",
      " 3   education        32561 non-null  object\n",
      " 4   educational_num  32561 non-null  int64 \n",
      " 5   marital-status   32561 non-null  object\n",
      " 6   occupation       32561 non-null  object\n",
      " 7   relationship     32561 non-null  object\n",
      " 8   race             32561 non-null  object\n",
      " 9   gender           32561 non-null  object\n",
      " 10  capital-gain     32561 non-null  int64 \n",
      " 11  capital-loss     32561 non-null  int64 \n",
      " 12  hours-per-week   32561 non-null  int64 \n",
      " 13  native-country   32561 non-null  object\n",
      " 14  income           32561 non-null  int64 \n",
      "dtypes: int64(7), object(8)\n",
      "memory usage: 3.7+ MB\n"
     ]
    }
   ],
   "source": [
    "data_train.info()"
   ]
  },
  {
   "cell_type": "markdown",
   "metadata": {},
   "source": [
    "Looking at the statistics of the dataframe - for the numeric attributes"
   ]
  },
  {
   "cell_type": "code",
   "execution_count": 7,
   "metadata": {},
   "outputs": [
    {
     "data": {
      "text/html": [
       "<div>\n",
       "<style scoped>\n",
       "    .dataframe tbody tr th:only-of-type {\n",
       "        vertical-align: middle;\n",
       "    }\n",
       "\n",
       "    .dataframe tbody tr th {\n",
       "        vertical-align: top;\n",
       "    }\n",
       "\n",
       "    .dataframe thead th {\n",
       "        text-align: right;\n",
       "    }\n",
       "</style>\n",
       "<table border=\"1\" class=\"dataframe\">\n",
       "  <thead>\n",
       "    <tr style=\"text-align: right;\">\n",
       "      <th></th>\n",
       "      <th>age</th>\n",
       "      <th>fnlwgt</th>\n",
       "      <th>capital-gain</th>\n",
       "      <th>capital-loss</th>\n",
       "      <th>hours-per-week</th>\n",
       "    </tr>\n",
       "  </thead>\n",
       "  <tbody>\n",
       "    <tr>\n",
       "      <th>count</th>\n",
       "      <td>32561.000000</td>\n",
       "      <td>3.256100e+04</td>\n",
       "      <td>32561.000000</td>\n",
       "      <td>32561.000000</td>\n",
       "      <td>32561.000000</td>\n",
       "    </tr>\n",
       "    <tr>\n",
       "      <th>mean</th>\n",
       "      <td>38.581647</td>\n",
       "      <td>1.897784e+05</td>\n",
       "      <td>1077.648844</td>\n",
       "      <td>87.303830</td>\n",
       "      <td>40.437456</td>\n",
       "    </tr>\n",
       "    <tr>\n",
       "      <th>std</th>\n",
       "      <td>13.640433</td>\n",
       "      <td>1.055500e+05</td>\n",
       "      <td>7385.292085</td>\n",
       "      <td>402.960219</td>\n",
       "      <td>12.347429</td>\n",
       "    </tr>\n",
       "    <tr>\n",
       "      <th>min</th>\n",
       "      <td>17.000000</td>\n",
       "      <td>1.228500e+04</td>\n",
       "      <td>0.000000</td>\n",
       "      <td>0.000000</td>\n",
       "      <td>1.000000</td>\n",
       "    </tr>\n",
       "    <tr>\n",
       "      <th>25%</th>\n",
       "      <td>28.000000</td>\n",
       "      <td>1.178270e+05</td>\n",
       "      <td>0.000000</td>\n",
       "      <td>0.000000</td>\n",
       "      <td>40.000000</td>\n",
       "    </tr>\n",
       "    <tr>\n",
       "      <th>50%</th>\n",
       "      <td>37.000000</td>\n",
       "      <td>1.783560e+05</td>\n",
       "      <td>0.000000</td>\n",
       "      <td>0.000000</td>\n",
       "      <td>40.000000</td>\n",
       "    </tr>\n",
       "    <tr>\n",
       "      <th>75%</th>\n",
       "      <td>48.000000</td>\n",
       "      <td>2.370510e+05</td>\n",
       "      <td>0.000000</td>\n",
       "      <td>0.000000</td>\n",
       "      <td>45.000000</td>\n",
       "    </tr>\n",
       "    <tr>\n",
       "      <th>max</th>\n",
       "      <td>90.000000</td>\n",
       "      <td>1.484705e+06</td>\n",
       "      <td>99999.000000</td>\n",
       "      <td>4356.000000</td>\n",
       "      <td>99.000000</td>\n",
       "    </tr>\n",
       "  </tbody>\n",
       "</table>\n",
       "</div>"
      ],
      "text/plain": [
       "                age        fnlwgt  capital-gain  capital-loss  hours-per-week\n",
       "count  32561.000000  3.256100e+04  32561.000000  32561.000000    32561.000000\n",
       "mean      38.581647  1.897784e+05   1077.648844     87.303830       40.437456\n",
       "std       13.640433  1.055500e+05   7385.292085    402.960219       12.347429\n",
       "min       17.000000  1.228500e+04      0.000000      0.000000        1.000000\n",
       "25%       28.000000  1.178270e+05      0.000000      0.000000       40.000000\n",
       "50%       37.000000  1.783560e+05      0.000000      0.000000       40.000000\n",
       "75%       48.000000  2.370510e+05      0.000000      0.000000       45.000000\n",
       "max       90.000000  1.484705e+06  99999.000000   4356.000000       99.000000"
      ]
     },
     "execution_count": 7,
     "metadata": {},
     "output_type": "execute_result"
    }
   ],
   "source": [
    "data_num = data_train.drop([\"educational_num\",\"income\"], axis=1)\n",
    "#axis=1: we want to drop columns rather than rows\n",
    "data_num.describe()"
   ]
  },
  {
   "cell_type": "markdown",
   "metadata": {},
   "source": [
    "Looking at some statistics of the dataframe - for the categorical attribute"
   ]
  },
  {
   "cell_type": "code",
   "execution_count": 8,
   "metadata": {},
   "outputs": [
    {
     "data": {
      "text/html": [
       "<div>\n",
       "<style scoped>\n",
       "    .dataframe tbody tr th:only-of-type {\n",
       "        vertical-align: middle;\n",
       "    }\n",
       "\n",
       "    .dataframe tbody tr th {\n",
       "        vertical-align: top;\n",
       "    }\n",
       "\n",
       "    .dataframe thead th {\n",
       "        text-align: right;\n",
       "    }\n",
       "</style>\n",
       "<table border=\"1\" class=\"dataframe\">\n",
       "  <thead>\n",
       "    <tr style=\"text-align: right;\">\n",
       "      <th></th>\n",
       "      <th>workclass</th>\n",
       "      <th>education</th>\n",
       "      <th>marital-status</th>\n",
       "      <th>occupation</th>\n",
       "      <th>relationship</th>\n",
       "      <th>race</th>\n",
       "      <th>gender</th>\n",
       "      <th>native-country</th>\n",
       "    </tr>\n",
       "  </thead>\n",
       "  <tbody>\n",
       "    <tr>\n",
       "      <th>count</th>\n",
       "      <td>32561</td>\n",
       "      <td>32561</td>\n",
       "      <td>32561</td>\n",
       "      <td>32561</td>\n",
       "      <td>32561</td>\n",
       "      <td>32561</td>\n",
       "      <td>32561</td>\n",
       "      <td>32561</td>\n",
       "    </tr>\n",
       "    <tr>\n",
       "      <th>unique</th>\n",
       "      <td>8</td>\n",
       "      <td>16</td>\n",
       "      <td>7</td>\n",
       "      <td>14</td>\n",
       "      <td>6</td>\n",
       "      <td>5</td>\n",
       "      <td>2</td>\n",
       "      <td>41</td>\n",
       "    </tr>\n",
       "    <tr>\n",
       "      <th>top</th>\n",
       "      <td>Private</td>\n",
       "      <td>HS-grad</td>\n",
       "      <td>Married-civ-spouse</td>\n",
       "      <td>Prof-specialty</td>\n",
       "      <td>Husband</td>\n",
       "      <td>White</td>\n",
       "      <td>Male</td>\n",
       "      <td>United-States</td>\n",
       "    </tr>\n",
       "    <tr>\n",
       "      <th>freq</th>\n",
       "      <td>24532</td>\n",
       "      <td>10501</td>\n",
       "      <td>14976</td>\n",
       "      <td>5983</td>\n",
       "      <td>13193</td>\n",
       "      <td>27816</td>\n",
       "      <td>21790</td>\n",
       "      <td>29753</td>\n",
       "    </tr>\n",
       "  </tbody>\n",
       "</table>\n",
       "</div>"
      ],
      "text/plain": [
       "       workclass education      marital-status      occupation relationship  \\\n",
       "count      32561     32561               32561           32561        32561   \n",
       "unique         8        16                   7              14            6   \n",
       "top      Private   HS-grad  Married-civ-spouse  Prof-specialty      Husband   \n",
       "freq       24532     10501               14976            5983        13193   \n",
       "\n",
       "         race gender native-country  \n",
       "count   32561  32561          32561  \n",
       "unique      5      2             41  \n",
       "top     White   Male  United-States  \n",
       "freq    27816  21790          29753  "
      ]
     },
     "execution_count": 8,
     "metadata": {},
     "output_type": "execute_result"
    }
   ],
   "source": [
    "data_train.describe(include=[\"O\"])\n",
    "#the [\"O\"] is to include the parameter only column with dtype \"object\"\n",
    "#i.e., columns that contain string or mixed data types"
   ]
  },
  {
   "cell_type": "markdown",
   "metadata": {},
   "source": [
    "## 2. Visualysing the Data Attributes and its Correlation"
   ]
  },
  {
   "cell_type": "markdown",
   "metadata": {},
   "source": [
    "Adapted from kaggle: [Simple EDA for Beginner](https://www.kaggle.com/code/alokevil/simple-eda-for-beginners#5.-EDA)"
   ]
  },
  {
   "cell_type": "markdown",
   "metadata": {},
   "source": [
    "### 2.1 Distribution for numeric attributes\n",
    "\n",
    "This will include six attribute which are:\n",
    "\n",
    "1. age\n",
    "2. fnlwgt\n",
    "3. education-num\n",
    "4. hours-per-week\n",
    "5. capital-gain\n",
    "6. capital-loss"
   ]
  },
  {
   "cell_type": "code",
   "execution_count": 9,
   "metadata": {},
   "outputs": [
    {
     "data": {
      "image/png": "[encoded data removed]",
      "text/plain": [
       "<Figure size 576x576 with 1 Axes>"
      ]
     },
     "metadata": {
      "needs_background": "light"
     },
     "output_type": "display_data"
    },
    {
     "data": {
      "image/png": "[encoded data removed]",
      "text/plain": [
       "<Figure size 576x576 with 1 Axes>"
      ]
     },
     "metadata": {
      "needs_background": "light"
     },
     "output_type": "display_data"
    },
    {
     "data": {
      "image/png": "[encoded data removed]",
      "text/plain": [
       "<Figure size 576x576 with 1 Axes>"
      ]
     },
     "metadata": {
      "needs_background": "light"
     },
     "output_type": "display_data"
    },
    {
     "data": {
      "image/png": "[encoded data removed]",
      "text/plain": [
       "<Figure size 576x576 with 1 Axes>"
      ]
     },
     "metadata": {
      "needs_background": "light"
     },
     "output_type": "display_data"
    },
    {
     "data": {
      "image/png": "[encoded data removed]",
      "text/plain": [
       "<Figure size 576x576 with 1 Axes>"
      ]
     },
     "metadata": {
      "needs_background": "light"
     },
     "output_type": "display_data"
    },
    {
     "data": {
      "image/png": "[encoded data removed]",
      "text/plain": [
       "<Figure size 576x576 with 1 Axes>"
      ]
     },
     "metadata": {
      "needs_background": "light"
     },
     "output_type": "display_data"
    }
   ],
   "source": [
    "#age\n",
    "data_train['age'].hist(figsize=(8,8))\n",
    "plt.xlabel('Age')\n",
    "plt.ylabel('Frequency')\n",
    "plt.show()\n",
    "#plt.savefig('age_histogram.jpg') -dont know how to output to the right folder\n",
    "\n",
    "#fnlwgt\n",
    "data_train['fnlwgt'].hist(figsize=(8,8))\n",
    "plt.xlabel('Fnlwgt')\n",
    "plt.ylabel('Frequency')\n",
    "plt.show()\n",
    "\n",
    "#educational-num\n",
    "data_train['educational_num'].hist(figsize=(8,8))\n",
    "plt.xlabel('Education-num')\n",
    "plt.ylabel('Frequency')\n",
    "plt.show()\n",
    "\n",
    "#hours-per-week\n",
    "data_train['hours-per-week'].hist(figsize=(8,8))\n",
    "plt.xlabel('Hours-per-week')\n",
    "plt.ylabel('Frequency')\n",
    "plt.show()\n",
    "\n",
    "#capital-gain\n",
    "data_train['capital-gain'].hist(figsize=(8,8))\n",
    "plt.xlabel('Capital-gain')\n",
    "plt.ylabel('Frequency')\n",
    "plt.show()\n",
    "\n",
    "#capital-loss\n",
    "data_train['capital-loss'].hist(figsize=(8,8))\n",
    "plt.xlabel('Capital-loss')\n",
    "plt.ylabel('Frequency')\n",
    "plt.show()"
   ]
  },
  {
   "cell_type": "markdown",
   "metadata": {},
   "source": [
    "### 2.2 Distribution for categorical attribute\n",
    "\n",
    "This include 8 attribute which are:\n",
    "\n",
    "1. workclass\n",
    "2. education\n",
    "3. marital-status\n",
    "4. occupation\n",
    "5. relationship\n",
    "6. race\n",
    "7. sex\n",
    "8. native country\n",
    "\n",
    "education-num too? - (i think educationa and education-num is redundant)\n"
   ]
  },
  {
   "cell_type": "code",
   "execution_count": 10,
   "metadata": {},
   "outputs": [
    {
     "data": {
      "image/png": "[encoded data removed]",
      "text/plain": [
       "<Figure size 864x576 with 1 Axes>"
      ]
     },
     "metadata": {
      "needs_background": "light"
     },
     "output_type": "display_data"
    },
    {
     "data": {
      "image/png": "[encoded data removed]",
      "text/plain": [
       "<Figure size 1440x576 with 1 Axes>"
      ]
     },
     "metadata": {
      "needs_background": "light"
     },
     "output_type": "display_data"
    },
    {
     "data": {
      "image/png": "[encoded data removed]",
      "text/plain": [
       "<Figure size 1080x576 with 1 Axes>"
      ]
     },
     "metadata": {
      "needs_background": "light"
     },
     "output_type": "display_data"
    },
    {
     "data": {
      "image/png": "[encoded data removed]",
      "text/plain": [
       "<Figure size 1800x576 with 1 Axes>"
      ]
     },
     "metadata": {
      "needs_background": "light"
     },
     "output_type": "display_data"
    },
    {
     "data": {
      "image/png": "[encoded data removed]",
      "text/plain": [
       "<Figure size 1080x576 with 1 Axes>"
      ]
     },
     "metadata": {
      "needs_background": "light"
     },
     "output_type": "display_data"
    },
    {
     "data": {
      "image/png": "[encoded data removed]",
      "text/plain": [
       "<Figure size 1080x576 with 1 Axes>"
      ]
     },
     "metadata": {
      "needs_background": "light"
     },
     "output_type": "display_data"
    },
    {
     "data": {
      "image/png": "[encoded data removed]",
      "text/plain": [
       "<Figure size 576x576 with 1 Axes>"
      ]
     },
     "metadata": {
      "needs_background": "light"
     },
     "output_type": "display_data"
    },
    {
     "data": {
      "image/png": "[encoded data removed]",
      "text/plain": [
       "<Figure size 1296x576 with 1 Axes>"
      ]
     },
     "metadata": {
      "needs_background": "light"
     },
     "output_type": "display_data"
    }
   ],
   "source": [
    "#workclass\n",
    "plt.figure(figsize=(12,8))\n",
    "\n",
    "total = float(len(data_train[\"income\"]) )\n",
    "\n",
    "ax = sns.countplot(x=\"workclass\", data=data_train)\n",
    "for p in ax.patches:\n",
    "    height = p.get_height()\n",
    "    ax.text(p.get_x()+p.get_width()/2.,\n",
    "            height + 3,\n",
    "            '{:1.2f}'.format((height/total)*100),\n",
    "            ha=\"center\") \n",
    "plt.show()\n",
    "\n",
    "\n",
    "#education\n",
    "plt.figure(figsize=(20,8))\n",
    "total = float(len(data_train[\"income\"]) )\n",
    "\n",
    "ax = sns.countplot(x=\"education\", data=data_train)\n",
    "for p in ax.patches:\n",
    "    height = p.get_height()\n",
    "    ax.text(p.get_x()+p.get_width()/2.,\n",
    "            height + 3,\n",
    "            '{:1.2f}'.format((height/total)*100),\n",
    "            ha=\"center\") \n",
    "plt.show()\n",
    "\n",
    "#marital-status\n",
    "plt.figure(figsize=(15,8))\n",
    "total = float(len(data_train))\n",
    "\n",
    "ax = sns.countplot(x=\"marital-status\", data=data_train)\n",
    "for p in ax.patches:\n",
    "    height = p.get_height()\n",
    "    ax.text(p.get_x()+p.get_width()/2.,\n",
    "            height + 3,\n",
    "            '{:1.2f}'.format((height/total)*100),\n",
    "            ha=\"center\") \n",
    "plt.show()\n",
    "\n",
    "\n",
    "#occupation\n",
    "plt.figure(figsize=(25,8))\n",
    "total = float(len(data_train) )\n",
    "\n",
    "ax = sns.countplot(x=\"occupation\", data=data_train)\n",
    "for p in ax.patches:\n",
    "    height = p.get_height()\n",
    "    ax.text(p.get_x()+p.get_width()/2.,\n",
    "            height + 3,\n",
    "            '{:1.2f}'.format((height/total)*100),\n",
    "            ha=\"center\") \n",
    "plt.show()\n",
    "\n",
    "\n",
    "#relationship\n",
    "plt.figure(figsize=(15,8))\n",
    "total = float(len(data_train) )\n",
    "\n",
    "ax = sns.countplot(x=\"relationship\", data=data_train)\n",
    "for p in ax.patches:\n",
    "    height = p.get_height()\n",
    "    ax.text(p.get_x()+p.get_width()/2.,\n",
    "            height + 3,\n",
    "            '{:1.2f}'.format((height/total)*100),\n",
    "            ha=\"center\") \n",
    "plt.show()\n",
    "\n",
    "\n",
    "#race\n",
    "plt.figure(figsize=(15,8))\n",
    "total = float(len(data_train) )\n",
    "\n",
    "ax = sns.countplot(x=\"race\", data=data_train)\n",
    "for p in ax.patches:\n",
    "    height = p.get_height()\n",
    "    ax.text(p.get_x()+p.get_width()/2.,\n",
    "            height + 3,\n",
    "            '{:1.2f}'.format((height/total)*100),\n",
    "            ha=\"center\") \n",
    "plt.show()\n",
    "\n",
    "\n",
    "#gender\n",
    "plt.figure(figsize=(8,8))\n",
    "total = float(len(data_train) )\n",
    "\n",
    "ax = sns.countplot(x=\"gender\", data=data_train)\n",
    "for p in ax.patches:\n",
    "    height = p.get_height()\n",
    "    ax.text(p.get_x()+p.get_width()/2.,\n",
    "            height + 3,\n",
    "            '{:1.2f}'.format((height/total)*100),\n",
    "            ha=\"center\") \n",
    "plt.show()\n",
    "\n",
    "\n",
    "#native-country\n",
    "plt.figure(figsize=(18,8))\n",
    "total = float(len(data_train) )\n",
    "\n",
    "ax = sns.countplot(y=\"native-country\", data=data_train)\n",
    "for p in ax.patches:\n",
    "    height = p.get_height()\n",
    "    ax.text(p.get_x()+p.get_width()/2.,\n",
    "            height + 3,\n",
    "            '{:1.2f}'.format((height/total)*100),\n",
    "            ha=\"center\") \n",
    "plt.show()\n"
   ]
  },
  {
   "cell_type": "markdown",
   "metadata": {},
   "source": [
    "## 3. Visualysing the distribution of Income (0:<=50k and 1:>50k)\n"
   ]
  },
  {
   "cell_type": "code",
   "execution_count": 11,
   "metadata": {},
   "outputs": [
    {
     "data": {
      "text/html": [
       "<div>\n",
       "<style scoped>\n",
       "    .dataframe tbody tr th:only-of-type {\n",
       "        vertical-align: middle;\n",
       "    }\n",
       "\n",
       "    .dataframe tbody tr th {\n",
       "        vertical-align: top;\n",
       "    }\n",
       "\n",
       "    .dataframe thead th {\n",
       "        text-align: right;\n",
       "    }\n",
       "</style>\n",
       "<table border=\"1\" class=\"dataframe\">\n",
       "  <thead>\n",
       "    <tr style=\"text-align: right;\">\n",
       "      <th></th>\n",
       "      <th>income</th>\n",
       "    </tr>\n",
       "  </thead>\n",
       "  <tbody>\n",
       "    <tr>\n",
       "      <th>count</th>\n",
       "      <td>32561.000000</td>\n",
       "    </tr>\n",
       "    <tr>\n",
       "      <th>mean</th>\n",
       "      <td>0.240810</td>\n",
       "    </tr>\n",
       "    <tr>\n",
       "      <th>std</th>\n",
       "      <td>0.427581</td>\n",
       "    </tr>\n",
       "    <tr>\n",
       "      <th>min</th>\n",
       "      <td>0.000000</td>\n",
       "    </tr>\n",
       "    <tr>\n",
       "      <th>25%</th>\n",
       "      <td>0.000000</td>\n",
       "    </tr>\n",
       "    <tr>\n",
       "      <th>50%</th>\n",
       "      <td>0.000000</td>\n",
       "    </tr>\n",
       "    <tr>\n",
       "      <th>75%</th>\n",
       "      <td>0.000000</td>\n",
       "    </tr>\n",
       "    <tr>\n",
       "      <th>max</th>\n",
       "      <td>1.000000</td>\n",
       "    </tr>\n",
       "  </tbody>\n",
       "</table>\n",
       "</div>"
      ],
      "text/plain": [
       "             income\n",
       "count  32561.000000\n",
       "mean       0.240810\n",
       "std        0.427581\n",
       "min        0.000000\n",
       "25%        0.000000\n",
       "50%        0.000000\n",
       "75%        0.000000\n",
       "max        1.000000"
      ]
     },
     "execution_count": 11,
     "metadata": {},
     "output_type": "execute_result"
    }
   ],
   "source": [
    "#describing the target income\n",
    "dfy.describe()"
   ]
  },
  {
   "cell_type": "code",
   "execution_count": 12,
   "metadata": {},
   "outputs": [
    {
     "data": {
      "text/plain": [
       "income\n",
       "0    24720\n",
       "1     7841\n",
       "dtype: int64"
      ]
     },
     "execution_count": 12,
     "metadata": {},
     "output_type": "execute_result"
    }
   ],
   "source": [
    "dfy.value_counts(\"income\")"
   ]
  },
  {
   "cell_type": "code",
   "execution_count": 13,
   "metadata": {},
   "outputs": [
    {
     "data": {
      "image/png": "[encoded data removed]",
      "text/plain": [
       "<Figure size 504x504 with 1 Axes>"
      ]
     },
     "metadata": {
      "needs_background": "light"
     },
     "output_type": "display_data"
    }
   ],
   "source": [
    "\n",
    "#plotting the histogram\n",
    "plt.figure(figsize=(7,7))\n",
    "total = float(len(data_train) )\n",
    "\n",
    "ax = sns.countplot(x=\"income\", data=data_train)\n",
    "for p in ax.patches:\n",
    "    height = p.get_height()\n",
    "    ax.text(p.get_x()+p.get_width()/2.,\n",
    "            height + 3,\n",
    "            '{:1.2f}'.format((height/total)*100),\n",
    "            ha=\"center\") \n",
    "plt.show()"
   ]
  },
  {
   "cell_type": "markdown",
   "metadata": {},
   "source": [
    "## 4. Data Transformation\n"
   ]
  },
  {
   "cell_type": "code",
   "execution_count": 14,
   "metadata": {},
   "outputs": [
    {
     "name": "stdout",
     "output_type": "stream",
     "text": [
      "   age  workclass  fnlwgt  education  educational_num  marital-status  \\\n",
      "0   39          6   77516          9               13               4   \n",
      "1   50          5   83311          9               13               2   \n",
      "2   38          3  215646         11                9               0   \n",
      "3   53          3  234721          1                7               2   \n",
      "4   28          3  338409          9               13               2   \n",
      "\n",
      "   occupation  relationship  race  gender  capital-gain  capital-loss  \\\n",
      "0           0             1     4       1          2174             0   \n",
      "1           3             0     4       1             0             0   \n",
      "2           5             1     4       1             0             0   \n",
      "3           5             0     2       1             0             0   \n",
      "4           9             5     2       0             0             0   \n",
      "\n",
      "   hours-per-week  native-country  income  \n",
      "0              40              38       0  \n",
      "1              13              38       0  \n",
      "2              40              38       0  \n",
      "3              40              38       0  \n",
      "4              40               4       0  \n"
     ]
    }
   ],
   "source": [
    "from sklearn.preprocessing import LabelEncoder\n",
    "\n",
    "\n",
    "# Select the categorical columns to encode\n",
    "cat_columns = [\"workclass\", \"education\", \"marital-status\", \"occupation\", \"relationship\", \"race\", \"gender\", \"native-country\"]\n",
    "\n",
    "# Encode categorical columns using Label Encoding for data_train\n",
    "le = LabelEncoder()\n",
    "for col in cat_columns:\n",
    "    data_train[col] = le.fit_transform(data_train[col])\n",
    "\n",
    "# Encode categorical columns using Label Encoding for data_test\n",
    "le = LabelEncoder()\n",
    "for col in cat_columns:\n",
    "    data_test[col] = le.fit_transform(data_test[col])\n",
    "\n",
    "\n",
    "# Print the first 5 rows of the transformed dataset\n",
    "print(data_train.head())\n",
    "#print(data_test.head())\n",
    "\n"
   ]
  },
  {
   "cell_type": "markdown",
   "metadata": {},
   "source": [
    "## 5.Correlation betweeen the Attributes"
   ]
  },
  {
   "cell_type": "code",
   "execution_count": 15,
   "metadata": {
    "scrolled": true
   },
   "outputs": [
    {
     "data": {
      "text/html": [
       "<div>\n",
       "<style scoped>\n",
       "    .dataframe tbody tr th:only-of-type {\n",
       "        vertical-align: middle;\n",
       "    }\n",
       "\n",
       "    .dataframe tbody tr th {\n",
       "        vertical-align: top;\n",
       "    }\n",
       "\n",
       "    .dataframe thead th {\n",
       "        text-align: right;\n",
       "    }\n",
       "</style>\n",
       "<table border=\"1\" class=\"dataframe\">\n",
       "  <thead>\n",
       "    <tr style=\"text-align: right;\">\n",
       "      <th></th>\n",
       "      <th>age</th>\n",
       "      <th>workclass</th>\n",
       "      <th>fnlwgt</th>\n",
       "      <th>education</th>\n",
       "      <th>educational_num</th>\n",
       "      <th>marital-status</th>\n",
       "      <th>occupation</th>\n",
       "      <th>relationship</th>\n",
       "      <th>race</th>\n",
       "      <th>gender</th>\n",
       "      <th>capital-gain</th>\n",
       "      <th>capital-loss</th>\n",
       "      <th>hours-per-week</th>\n",
       "      <th>native-country</th>\n",
       "      <th>income</th>\n",
       "    </tr>\n",
       "  </thead>\n",
       "  <tbody>\n",
       "    <tr>\n",
       "      <th>age</th>\n",
       "      <td>1.000000</td>\n",
       "      <td>0.040504</td>\n",
       "      <td>-0.076646</td>\n",
       "      <td>-0.010508</td>\n",
       "      <td>0.036527</td>\n",
       "      <td>-0.266288</td>\n",
       "      <td>0.001739</td>\n",
       "      <td>-0.263698</td>\n",
       "      <td>0.028718</td>\n",
       "      <td>0.088832</td>\n",
       "      <td>0.077674</td>\n",
       "      <td>0.057775</td>\n",
       "      <td>0.068756</td>\n",
       "      <td>-0.000270</td>\n",
       "      <td>0.234037</td>\n",
       "    </tr>\n",
       "    <tr>\n",
       "      <th>workclass</th>\n",
       "      <td>0.040504</td>\n",
       "      <td>1.000000</td>\n",
       "      <td>-0.024338</td>\n",
       "      <td>0.004874</td>\n",
       "      <td>0.003536</td>\n",
       "      <td>-0.020468</td>\n",
       "      <td>0.007110</td>\n",
       "      <td>-0.057947</td>\n",
       "      <td>0.048350</td>\n",
       "      <td>0.071584</td>\n",
       "      <td>0.031505</td>\n",
       "      <td>0.002644</td>\n",
       "      <td>0.042199</td>\n",
       "      <td>-0.001625</td>\n",
       "      <td>0.002693</td>\n",
       "    </tr>\n",
       "    <tr>\n",
       "      <th>fnlwgt</th>\n",
       "      <td>-0.076646</td>\n",
       "      <td>-0.024338</td>\n",
       "      <td>1.000000</td>\n",
       "      <td>-0.028145</td>\n",
       "      <td>-0.043195</td>\n",
       "      <td>0.028153</td>\n",
       "      <td>0.000188</td>\n",
       "      <td>0.008931</td>\n",
       "      <td>-0.021291</td>\n",
       "      <td>0.026858</td>\n",
       "      <td>0.000432</td>\n",
       "      <td>-0.010252</td>\n",
       "      <td>-0.018768</td>\n",
       "      <td>-0.063286</td>\n",
       "      <td>-0.009463</td>\n",
       "    </tr>\n",
       "    <tr>\n",
       "      <th>education</th>\n",
       "      <td>-0.010508</td>\n",
       "      <td>0.004874</td>\n",
       "      <td>-0.028145</td>\n",
       "      <td>1.000000</td>\n",
       "      <td>0.359153</td>\n",
       "      <td>-0.038407</td>\n",
       "      <td>-0.041279</td>\n",
       "      <td>-0.010876</td>\n",
       "      <td>0.014131</td>\n",
       "      <td>-0.027356</td>\n",
       "      <td>0.030046</td>\n",
       "      <td>0.016746</td>\n",
       "      <td>0.055510</td>\n",
       "      <td>0.076060</td>\n",
       "      <td>0.079317</td>\n",
       "    </tr>\n",
       "    <tr>\n",
       "      <th>educational_num</th>\n",
       "      <td>0.036527</td>\n",
       "      <td>0.003536</td>\n",
       "      <td>-0.043195</td>\n",
       "      <td>0.359153</td>\n",
       "      <td>1.000000</td>\n",
       "      <td>-0.069304</td>\n",
       "      <td>0.070954</td>\n",
       "      <td>-0.094153</td>\n",
       "      <td>0.031838</td>\n",
       "      <td>0.012280</td>\n",
       "      <td>0.122630</td>\n",
       "      <td>0.079923</td>\n",
       "      <td>0.148123</td>\n",
       "      <td>0.088894</td>\n",
       "      <td>0.335154</td>\n",
       "    </tr>\n",
       "    <tr>\n",
       "      <th>marital-status</th>\n",
       "      <td>-0.266288</td>\n",
       "      <td>-0.020468</td>\n",
       "      <td>0.028153</td>\n",
       "      <td>-0.038407</td>\n",
       "      <td>-0.069304</td>\n",
       "      <td>1.000000</td>\n",
       "      <td>0.034962</td>\n",
       "      <td>0.185451</td>\n",
       "      <td>-0.068013</td>\n",
       "      <td>-0.129314</td>\n",
       "      <td>-0.043393</td>\n",
       "      <td>-0.034187</td>\n",
       "      <td>-0.190519</td>\n",
       "      <td>-0.021278</td>\n",
       "      <td>-0.199307</td>\n",
       "    </tr>\n",
       "    <tr>\n",
       "      <th>occupation</th>\n",
       "      <td>0.001739</td>\n",
       "      <td>0.007110</td>\n",
       "      <td>0.000188</td>\n",
       "      <td>-0.041279</td>\n",
       "      <td>0.070954</td>\n",
       "      <td>0.034962</td>\n",
       "      <td>1.000000</td>\n",
       "      <td>-0.037451</td>\n",
       "      <td>-0.004839</td>\n",
       "      <td>0.047461</td>\n",
       "      <td>0.018021</td>\n",
       "      <td>0.009680</td>\n",
       "      <td>-0.012879</td>\n",
       "      <td>-0.002217</td>\n",
       "      <td>0.034625</td>\n",
       "    </tr>\n",
       "    <tr>\n",
       "      <th>relationship</th>\n",
       "      <td>-0.263698</td>\n",
       "      <td>-0.057947</td>\n",
       "      <td>0.008931</td>\n",
       "      <td>-0.010876</td>\n",
       "      <td>-0.094153</td>\n",
       "      <td>0.185451</td>\n",
       "      <td>-0.037451</td>\n",
       "      <td>1.000000</td>\n",
       "      <td>-0.116055</td>\n",
       "      <td>-0.582454</td>\n",
       "      <td>-0.057919</td>\n",
       "      <td>-0.061062</td>\n",
       "      <td>-0.248974</td>\n",
       "      <td>-0.010712</td>\n",
       "      <td>-0.250918</td>\n",
       "    </tr>\n",
       "    <tr>\n",
       "      <th>race</th>\n",
       "      <td>0.028718</td>\n",
       "      <td>0.048350</td>\n",
       "      <td>-0.021291</td>\n",
       "      <td>0.014131</td>\n",
       "      <td>0.031838</td>\n",
       "      <td>-0.068013</td>\n",
       "      <td>-0.004839</td>\n",
       "      <td>-0.116055</td>\n",
       "      <td>1.000000</td>\n",
       "      <td>0.087204</td>\n",
       "      <td>0.011145</td>\n",
       "      <td>0.018899</td>\n",
       "      <td>0.041910</td>\n",
       "      <td>0.116529</td>\n",
       "      <td>0.071846</td>\n",
       "    </tr>\n",
       "    <tr>\n",
       "      <th>gender</th>\n",
       "      <td>0.088832</td>\n",
       "      <td>0.071584</td>\n",
       "      <td>0.026858</td>\n",
       "      <td>-0.027356</td>\n",
       "      <td>0.012280</td>\n",
       "      <td>-0.129314</td>\n",
       "      <td>0.047461</td>\n",
       "      <td>-0.582454</td>\n",
       "      <td>0.087204</td>\n",
       "      <td>1.000000</td>\n",
       "      <td>0.048480</td>\n",
       "      <td>0.045567</td>\n",
       "      <td>0.229309</td>\n",
       "      <td>0.002061</td>\n",
       "      <td>0.215980</td>\n",
       "    </tr>\n",
       "    <tr>\n",
       "      <th>capital-gain</th>\n",
       "      <td>0.077674</td>\n",
       "      <td>0.031505</td>\n",
       "      <td>0.000432</td>\n",
       "      <td>0.030046</td>\n",
       "      <td>0.122630</td>\n",
       "      <td>-0.043393</td>\n",
       "      <td>0.018021</td>\n",
       "      <td>-0.057919</td>\n",
       "      <td>0.011145</td>\n",
       "      <td>0.048480</td>\n",
       "      <td>1.000000</td>\n",
       "      <td>-0.031615</td>\n",
       "      <td>0.078409</td>\n",
       "      <td>0.008819</td>\n",
       "      <td>0.223329</td>\n",
       "    </tr>\n",
       "    <tr>\n",
       "      <th>capital-loss</th>\n",
       "      <td>0.057775</td>\n",
       "      <td>0.002644</td>\n",
       "      <td>-0.010252</td>\n",
       "      <td>0.016746</td>\n",
       "      <td>0.079923</td>\n",
       "      <td>-0.034187</td>\n",
       "      <td>0.009680</td>\n",
       "      <td>-0.061062</td>\n",
       "      <td>0.018899</td>\n",
       "      <td>0.045567</td>\n",
       "      <td>-0.031615</td>\n",
       "      <td>1.000000</td>\n",
       "      <td>0.054256</td>\n",
       "      <td>0.009401</td>\n",
       "      <td>0.150526</td>\n",
       "    </tr>\n",
       "    <tr>\n",
       "      <th>hours-per-week</th>\n",
       "      <td>0.068756</td>\n",
       "      <td>0.042199</td>\n",
       "      <td>-0.018768</td>\n",
       "      <td>0.055510</td>\n",
       "      <td>0.148123</td>\n",
       "      <td>-0.190519</td>\n",
       "      <td>-0.012879</td>\n",
       "      <td>-0.248974</td>\n",
       "      <td>0.041910</td>\n",
       "      <td>0.229309</td>\n",
       "      <td>0.078409</td>\n",
       "      <td>0.054256</td>\n",
       "      <td>1.000000</td>\n",
       "      <td>0.006592</td>\n",
       "      <td>0.229689</td>\n",
       "    </tr>\n",
       "    <tr>\n",
       "      <th>native-country</th>\n",
       "      <td>-0.000270</td>\n",
       "      <td>-0.001625</td>\n",
       "      <td>-0.063286</td>\n",
       "      <td>0.076060</td>\n",
       "      <td>0.088894</td>\n",
       "      <td>-0.021278</td>\n",
       "      <td>-0.002217</td>\n",
       "      <td>-0.010712</td>\n",
       "      <td>0.116529</td>\n",
       "      <td>0.002061</td>\n",
       "      <td>0.008819</td>\n",
       "      <td>0.009401</td>\n",
       "      <td>0.006592</td>\n",
       "      <td>1.000000</td>\n",
       "      <td>0.023058</td>\n",
       "    </tr>\n",
       "    <tr>\n",
       "      <th>income</th>\n",
       "      <td>0.234037</td>\n",
       "      <td>0.002693</td>\n",
       "      <td>-0.009463</td>\n",
       "      <td>0.079317</td>\n",
       "      <td>0.335154</td>\n",
       "      <td>-0.199307</td>\n",
       "      <td>0.034625</td>\n",
       "      <td>-0.250918</td>\n",
       "      <td>0.071846</td>\n",
       "      <td>0.215980</td>\n",
       "      <td>0.223329</td>\n",
       "      <td>0.150526</td>\n",
       "      <td>0.229689</td>\n",
       "      <td>0.023058</td>\n",
       "      <td>1.000000</td>\n",
       "    </tr>\n",
       "  </tbody>\n",
       "</table>\n",
       "</div>"
      ],
      "text/plain": [
       "                      age  workclass    fnlwgt  education  educational_num  \\\n",
       "age              1.000000   0.040504 -0.076646  -0.010508         0.036527   \n",
       "workclass        0.040504   1.000000 -0.024338   0.004874         0.003536   \n",
       "fnlwgt          -0.076646  -0.024338  1.000000  -0.028145        -0.043195   \n",
       "education       -0.010508   0.004874 -0.028145   1.000000         0.359153   \n",
       "educational_num  0.036527   0.003536 -0.043195   0.359153         1.000000   \n",
       "marital-status  -0.266288  -0.020468  0.028153  -0.038407        -0.069304   \n",
       "occupation       0.001739   0.007110  0.000188  -0.041279         0.070954   \n",
       "relationship    -0.263698  -0.057947  0.008931  -0.010876        -0.094153   \n",
       "race             0.028718   0.048350 -0.021291   0.014131         0.031838   \n",
       "gender           0.088832   0.071584  0.026858  -0.027356         0.012280   \n",
       "capital-gain     0.077674   0.031505  0.000432   0.030046         0.122630   \n",
       "capital-loss     0.057775   0.002644 -0.010252   0.016746         0.079923   \n",
       "hours-per-week   0.068756   0.042199 -0.018768   0.055510         0.148123   \n",
       "native-country  -0.000270  -0.001625 -0.063286   0.076060         0.088894   \n",
       "income           0.234037   0.002693 -0.009463   0.079317         0.335154   \n",
       "\n",
       "                 marital-status  occupation  relationship      race    gender  \\\n",
       "age                   -0.266288    0.001739     -0.263698  0.028718  0.088832   \n",
       "workclass             -0.020468    0.007110     -0.057947  0.048350  0.071584   \n",
       "fnlwgt                 0.028153    0.000188      0.008931 -0.021291  0.026858   \n",
       "education             -0.038407   -0.041279     -0.010876  0.014131 -0.027356   \n",
       "educational_num       -0.069304    0.070954     -0.094153  0.031838  0.012280   \n",
       "marital-status         1.000000    0.034962      0.185451 -0.068013 -0.129314   \n",
       "occupation             0.034962    1.000000     -0.037451 -0.004839  0.047461   \n",
       "relationship           0.185451   -0.037451      1.000000 -0.116055 -0.582454   \n",
       "race                  -0.068013   -0.004839     -0.116055  1.000000  0.087204   \n",
       "gender                -0.129314    0.047461     -0.582454  0.087204  1.000000   \n",
       "capital-gain          -0.043393    0.018021     -0.057919  0.011145  0.048480   \n",
       "capital-loss          -0.034187    0.009680     -0.061062  0.018899  0.045567   \n",
       "hours-per-week        -0.190519   -0.012879     -0.248974  0.041910  0.229309   \n",
       "native-country        -0.021278   -0.002217     -0.010712  0.116529  0.002061   \n",
       "income                -0.199307    0.034625     -0.250918  0.071846  0.215980   \n",
       "\n",
       "                 capital-gain  capital-loss  hours-per-week  native-country  \\\n",
       "age                  0.077674      0.057775        0.068756       -0.000270   \n",
       "workclass            0.031505      0.002644        0.042199       -0.001625   \n",
       "fnlwgt               0.000432     -0.010252       -0.018768       -0.063286   \n",
       "education            0.030046      0.016746        0.055510        0.076060   \n",
       "educational_num      0.122630      0.079923        0.148123        0.088894   \n",
       "marital-status      -0.043393     -0.034187       -0.190519       -0.021278   \n",
       "occupation           0.018021      0.009680       -0.012879       -0.002217   \n",
       "relationship        -0.057919     -0.061062       -0.248974       -0.010712   \n",
       "race                 0.011145      0.018899        0.041910        0.116529   \n",
       "gender               0.048480      0.045567        0.229309        0.002061   \n",
       "capital-gain         1.000000     -0.031615        0.078409        0.008819   \n",
       "capital-loss        -0.031615      1.000000        0.054256        0.009401   \n",
       "hours-per-week       0.078409      0.054256        1.000000        0.006592   \n",
       "native-country       0.008819      0.009401        0.006592        1.000000   \n",
       "income               0.223329      0.150526        0.229689        0.023058   \n",
       "\n",
       "                   income  \n",
       "age              0.234037  \n",
       "workclass        0.002693  \n",
       "fnlwgt          -0.009463  \n",
       "education        0.079317  \n",
       "educational_num  0.335154  \n",
       "marital-status  -0.199307  \n",
       "occupation       0.034625  \n",
       "relationship    -0.250918  \n",
       "race             0.071846  \n",
       "gender           0.215980  \n",
       "capital-gain     0.223329  \n",
       "capital-loss     0.150526  \n",
       "hours-per-week   0.229689  \n",
       "native-country   0.023058  \n",
       "income           1.000000  "
      ]
     },
     "execution_count": 15,
     "metadata": {},
     "output_type": "execute_result"
    }
   ],
   "source": [
    "data_train.corr(method='pearson')"
   ]
  },
  {
   "cell_type": "code",
   "execution_count": 16,
   "metadata": {},
   "outputs": [
    {
     "data": {
      "image/png": "[encoded data removed]",
      "text/plain": [
       "<Figure size 432x288 with 2 Axes>"
      ]
     },
     "metadata": {
      "needs_background": "light"
     },
     "output_type": "display_data"
    }
   ],
   "source": [
    "sns.heatmap(data_train.corr(method='pearson'),annot=True);\n",
    "plt.show()"
   ]
  },
  {
   "cell_type": "markdown",
   "metadata": {},
   "source": [
    "## 6. Outlier Remover"
   ]
  },
  {
   "cell_type": "markdown",
   "metadata": {},
   "source": [
    "### Using Boxplot and scatter plot to visulize those outlier data"
   ]
  },
  {
   "cell_type": "code",
   "execution_count": 21,
   "metadata": {},
   "outputs": [
    {
     "name": "stderr",
     "output_type": "stream",
     "text": [
      "/opt/anaconda3/lib/python3.9/site-packages/seaborn/_decorators.py:36: FutureWarning: Pass the following variable as a keyword arg: x. From version 0.12, the only valid positional argument will be `data`, and passing other arguments without an explicit keyword will result in an error or misinterpretation.\n",
      "  warnings.warn(\n"
     ]
    },
    {
     "data": {
      "image/png": "[encoded data removed]",
      "text/plain": [
       "<Figure size 432x288 with 1 Axes>"
      ]
     },
     "metadata": {
      "needs_background": "light"
     },
     "output_type": "display_data"
    },
    {
     "name": "stderr",
     "output_type": "stream",
     "text": [
      "/opt/anaconda3/lib/python3.9/site-packages/seaborn/_decorators.py:36: FutureWarning: Pass the following variable as a keyword arg: x. From version 0.12, the only valid positional argument will be `data`, and passing other arguments without an explicit keyword will result in an error or misinterpretation.\n",
      "  warnings.warn(\n"
     ]
    },
    {
     "data": {
      "image/png": "[encoded data removed]",
      "text/plain": [
       "<Figure size 432x288 with 1 Axes>"
      ]
     },
     "metadata": {
      "needs_background": "light"
     },
     "output_type": "display_data"
    },
    {
     "name": "stderr",
     "output_type": "stream",
     "text": [
      "/opt/anaconda3/lib/python3.9/site-packages/seaborn/_decorators.py:36: FutureWarning: Pass the following variable as a keyword arg: x. From version 0.12, the only valid positional argument will be `data`, and passing other arguments without an explicit keyword will result in an error or misinterpretation.\n",
      "  warnings.warn(\n"
     ]
    },
    {
     "data": {
      "image/png": "[encoded data removed]",
      "text/plain": [
       "<Figure size 432x288 with 1 Axes>"
      ]
     },
     "metadata": {
      "needs_background": "light"
     },
     "output_type": "display_data"
    },
    {
     "name": "stderr",
     "output_type": "stream",
     "text": [
      "/opt/anaconda3/lib/python3.9/site-packages/seaborn/_decorators.py:36: FutureWarning: Pass the following variable as a keyword arg: x. From version 0.12, the only valid positional argument will be `data`, and passing other arguments without an explicit keyword will result in an error or misinterpretation.\n",
      "  warnings.warn(\n"
     ]
    },
    {
     "data": {
      "image/png": "[encoded data removed]",
      "text/plain": [
       "<Figure size 432x288 with 1 Axes>"
      ]
     },
     "metadata": {
      "needs_background": "light"
     },
     "output_type": "display_data"
    },
    {
     "name": "stderr",
     "output_type": "stream",
     "text": [
      "/opt/anaconda3/lib/python3.9/site-packages/seaborn/_decorators.py:36: FutureWarning: Pass the following variable as a keyword arg: x. From version 0.12, the only valid positional argument will be `data`, and passing other arguments without an explicit keyword will result in an error or misinterpretation.\n",
      "  warnings.warn(\n"
     ]
    },
    {
     "data": {
      "image/png": "[encoded data removed]",
      "text/plain": [
       "<Figure size 432x288 with 1 Axes>"
      ]
     },
     "metadata": {
      "needs_background": "light"
     },
     "output_type": "display_data"
    },
    {
     "name": "stderr",
     "output_type": "stream",
     "text": [
      "/opt/anaconda3/lib/python3.9/site-packages/seaborn/_decorators.py:36: FutureWarning: Pass the following variable as a keyword arg: x. From version 0.12, the only valid positional argument will be `data`, and passing other arguments without an explicit keyword will result in an error or misinterpretation.\n",
      "  warnings.warn(\n"
     ]
    },
    {
     "data": {
      "image/png": "[encoded data removed]",
      "text/plain": [
       "<Figure size 432x288 with 1 Axes>"
      ]
     },
     "metadata": {
      "needs_background": "light"
     },
     "output_type": "display_data"
    },
    {
     "name": "stderr",
     "output_type": "stream",
     "text": [
      "/opt/anaconda3/lib/python3.9/site-packages/seaborn/_decorators.py:36: FutureWarning: Pass the following variable as a keyword arg: x. From version 0.12, the only valid positional argument will be `data`, and passing other arguments without an explicit keyword will result in an error or misinterpretation.\n",
      "  warnings.warn(\n"
     ]
    },
    {
     "data": {
      "image/png": "[encoded data removed]",
      "text/plain": [
       "<Figure size 432x288 with 1 Axes>"
      ]
     },
     "metadata": {
      "needs_background": "light"
     },
     "output_type": "display_data"
    },
    {
     "name": "stderr",
     "output_type": "stream",
     "text": [
      "/opt/anaconda3/lib/python3.9/site-packages/seaborn/_decorators.py:36: FutureWarning: Pass the following variable as a keyword arg: x. From version 0.12, the only valid positional argument will be `data`, and passing other arguments without an explicit keyword will result in an error or misinterpretation.\n",
      "  warnings.warn(\n"
     ]
    },
    {
     "data": {
      "image/png": "[encoded data removed]",
      "text/plain": [
       "<Figure size 432x288 with 1 Axes>"
      ]
     },
     "metadata": {
      "needs_background": "light"
     },
     "output_type": "display_data"
    },
    {
     "name": "stderr",
     "output_type": "stream",
     "text": [
      "/opt/anaconda3/lib/python3.9/site-packages/seaborn/_decorators.py:36: FutureWarning: Pass the following variable as a keyword arg: x. From version 0.12, the only valid positional argument will be `data`, and passing other arguments without an explicit keyword will result in an error or misinterpretation.\n",
      "  warnings.warn(\n"
     ]
    },
    {
     "data": {
      "image/png": "[encoded data removed]",
      "text/plain": [
       "<Figure size 432x288 with 1 Axes>"
      ]
     },
     "metadata": {
      "needs_background": "light"
     },
     "output_type": "display_data"
    },
    {
     "name": "stderr",
     "output_type": "stream",
     "text": [
      "/opt/anaconda3/lib/python3.9/site-packages/seaborn/_decorators.py:36: FutureWarning: Pass the following variable as a keyword arg: x. From version 0.12, the only valid positional argument will be `data`, and passing other arguments without an explicit keyword will result in an error or misinterpretation.\n",
      "  warnings.warn(\n"
     ]
    },
    {
     "data": {
      "image/png": "[encoded data removed]",
      "text/plain": [
       "<Figure size 432x288 with 1 Axes>"
      ]
     },
     "metadata": {
      "needs_background": "light"
     },
     "output_type": "display_data"
    },
    {
     "name": "stderr",
     "output_type": "stream",
     "text": [
      "/opt/anaconda3/lib/python3.9/site-packages/seaborn/_decorators.py:36: FutureWarning: Pass the following variable as a keyword arg: x. From version 0.12, the only valid positional argument will be `data`, and passing other arguments without an explicit keyword will result in an error or misinterpretation.\n",
      "  warnings.warn(\n"
     ]
    },
    {
     "data": {
      "image/png": "[encoded data removed]",
      "text/plain": [
       "<Figure size 432x288 with 1 Axes>"
      ]
     },
     "metadata": {
      "needs_background": "light"
     },
     "output_type": "display_data"
    },
    {
     "name": "stderr",
     "output_type": "stream",
     "text": [
      "/opt/anaconda3/lib/python3.9/site-packages/seaborn/_decorators.py:36: FutureWarning: Pass the following variable as a keyword arg: x. From version 0.12, the only valid positional argument will be `data`, and passing other arguments without an explicit keyword will result in an error or misinterpretation.\n",
      "  warnings.warn(\n"
     ]
    },
    {
     "data": {
      "image/png": "[encoded data removed]",
      "text/plain": [
       "<Figure size 432x288 with 1 Axes>"
      ]
     },
     "metadata": {
      "needs_background": "light"
     },
     "output_type": "display_data"
    },
    {
     "name": "stderr",
     "output_type": "stream",
     "text": [
      "/opt/anaconda3/lib/python3.9/site-packages/seaborn/_decorators.py:36: FutureWarning: Pass the following variable as a keyword arg: x. From version 0.12, the only valid positional argument will be `data`, and passing other arguments without an explicit keyword will result in an error or misinterpretation.\n",
      "  warnings.warn(\n"
     ]
    },
    {
     "data": {
      "image/png": "[encoded data removed]",
      "text/plain": [
       "<Figure size 432x288 with 1 Axes>"
      ]
     },
     "metadata": {
      "needs_background": "light"
     },
     "output_type": "display_data"
    },
    {
     "name": "stderr",
     "output_type": "stream",
     "text": [
      "/opt/anaconda3/lib/python3.9/site-packages/seaborn/_decorators.py:36: FutureWarning: Pass the following variable as a keyword arg: x. From version 0.12, the only valid positional argument will be `data`, and passing other arguments without an explicit keyword will result in an error or misinterpretation.\n",
      "  warnings.warn(\n"
     ]
    },
    {
     "data": {
      "image/png": "[encoded data removed]",
      "text/plain": [
       "<Figure size 432x288 with 1 Axes>"
      ]
     },
     "metadata": {
      "needs_background": "light"
     },
     "output_type": "display_data"
    }
   ],
   "source": [
    "import seaborn as sns\n",
    "sns.boxplot(data_train['age'])\n",
    "plt.show()\n",
    "sns.boxplot(data_train['workclass'])\n",
    "plt.show()\n",
    "sns.boxplot(data_train['fnlwgt'])\n",
    "plt.show()\n",
    "sns.boxplot(data_train['education'])\n",
    "plt.show()\n",
    "sns.boxplot(data_train['educational_num'])\n",
    "plt.show()\n",
    "sns.boxplot(data_train['marital-status'])\n",
    "plt.show()\n",
    "sns.boxplot(data_train['occupation'])\n",
    "plt.show()\n",
    "sns.boxplot(data_train['relationship'])\n",
    "plt.show()\n",
    "sns.boxplot(data_train['race'])\n",
    "plt.show()\n",
    "sns.boxplot(data_train['gender'])\n",
    "plt.show()\n",
    "sns.boxplot(data_train['capital-gain'])\n",
    "plt.show()\n",
    "sns.boxplot(data_train['capital-loss'])\n",
    "plt.show()\n",
    "sns.boxplot(data_train['hours-per-week'])\n",
    "plt.show()\n",
    "sns.boxplot(data_train['native-country'])\n",
    "plt.show()"
   ]
  },
  {
   "cell_type": "markdown",
   "metadata": {},
   "source": [
    "### Using IQR to find out outliers in each feature"
   ]
  },
  {
   "cell_type": "code",
   "execution_count": 37,
   "metadata": {},
   "outputs": [
    {
     "name": "stdout",
     "output_type": "stream",
     "text": [
      "Old Shape:  32561\n",
      "age outlier percentage 0.4391757009919842\n"
     ]
    }
   ],
   "source": [
    "import pandas as pd\n",
    "import numpy as np\n",
    "data_out = data_train\n",
    "\n",
    "# IQR\n",
    "Q1 = np.percentile(data_train['age'], 25, interpolation = 'midpoint')\n",
    "\n",
    "Q3 = np.percentile(data_train['age'], 75, interpolation = 'midpoint')\n",
    "\n",
    "IQR = Q3 - Q1\n",
    "\n",
    "print(\"Old Shape: \", len(data_train['age']))\n",
    "\n",
    "# Upper bound\n",
    "upper=Q3+1.5*IQR\n",
    "upper_array=np.array(data_train['age']>=upper)\n",
    "\n",
    "# Lower bound\n",
    "lower=Q1-1.5*IQR\n",
    "lower_array=np.array(data_train['age']<=lower)\n",
    "\n",
    "data_out = data_train[(data_train.age < lower) | (data_train.age > upper)]\n",
    "print(\"age outlier percentage\", len(data_out['age'])/len(data_train['age'])*100)"
   ]
  },
  {
   "cell_type": "code",
   "execution_count": 48,
   "metadata": {},
   "outputs": [],
   "source": [
    "def outlier_percentage(dataframe, variable):\n",
    "    # IQR\n",
    "    Q1 = np.percentile(variable, 25, interpolation = 'midpoint')\n",
    "\n",
    "    Q3 = np.percentile(variable, 75, interpolation = 'midpoint')\n",
    "\n",
    "    IQR = Q3 - Q1\n",
    "    \n",
    "    old = len(variable)\n",
    "\n",
    "    # Upper bound\n",
    "    upper=Q3+1.5*IQR\n",
    "    upper_array=np.array(variable>=upper)\n",
    "\n",
    "    # Lower bound\n",
    "    lower=Q1-1.5*IQR\n",
    "    lower_array=np.array(variable<=lower)\n",
    "\n",
    "    data_out = dataframe[(variable < lower) | (variable > upper)]\n",
    "    \n",
    "    new = len(data_out)\n",
    "    percent = new/old*100\n",
    "    return percent\n",
    "          "
   ]
  },
  {
   "cell_type": "code",
   "execution_count": 57,
   "metadata": {},
   "outputs": [
    {
     "name": "stdout",
     "output_type": "stream",
     "text": [
      "Outlier percentage in Age: 0.4391757009919842\n",
      "Outlier percentage in workclass: 24.65833358926323\n",
      "Outlier percentage in fnlwgt: 3.046589478210129\n",
      "Outlier percentage in education: 9.342464912011302\n",
      "Outlier percentage in educational_num: 3.679248180338442\n",
      "Outlier percentage in marital-status: 0.0\n",
      "Outlier percentage in occupation: 0.0\n",
      "Outlier percentage in relationship: 0.0\n",
      "Outlier percentage in race: 14.57264826018857\n",
      "Outlier percentage in gender: 0.0\n",
      "Outlier percentage in capital-gain: 8.328982525106724\n",
      "Outlier percentage in capital-loss: 4.66509013850926\n",
      "Outlier percentage in hours-per-week: 27.664998003746817\n",
      "Outlier percentage in native-country: 8.623813764933509\n",
      "Outlier percentage inincome: 24.080955744602438\n"
     ]
    }
   ],
   "source": [
    "print(\"Outlier percentage in Age:\", outlier_percentage(data_train, data_train['age']))\n",
    "print(\"Outlier percentage in workclass:\", outlier_percentage(data_train, data_train['workclass']))\n",
    "print(\"Outlier percentage in fnlwgt:\", outlier_percentage(data_train, data_train['fnlwgt']))\n",
    "print(\"Outlier percentage in education:\", outlier_percentage(data_train, data_train['education']))\n",
    "print(\"Outlier percentage in educational_num:\", outlier_percentage(data_train, data_train['educational_num']))\n",
    "print(\"Outlier percentage in marital-status:\", outlier_percentage(data_train, data_train['marital-status']))\n",
    "print(\"Outlier percentage in occupation:\", outlier_percentage(data_train, data_train['occupation']))\n",
    "print(\"Outlier percentage in relationship:\", outlier_percentage(data_train, data_train['relationship']))\n",
    "print(\"Outlier percentage in race:\", outlier_percentage(data_train, data_train['race']))\n",
    "print(\"Outlier percentage in gender:\", outlier_percentage(data_train, data_train['gender']))\n",
    "print(\"Outlier percentage in capital-gain:\", outlier_percentage(data_train, data_train['capital-gain']))\n",
    "print(\"Outlier percentage in capital-loss:\", outlier_percentage(data_train, data_train['capital-loss']))\n",
    "\n",
    "print(\"Outlier percentage in hours-per-week:\", outlier_percentage(data_train, data_train['hours-per-week']))\n",
    "print(\"Outlier percentage in native-country:\", outlier_percentage(data_train, data_train['native-country']))\n",
    "print(\"Outlier percentage inincome:\", outlier_percentage(data_train, data_train['income']))"
   ]
  },
  {
   "cell_type": "code",
   "execution_count": 62,
   "metadata": {},
   "outputs": [
    {
     "data": {
      "text/html": [
       "<div>\n",
       "<style scoped>\n",
       "    .dataframe tbody tr th:only-of-type {\n",
       "        vertical-align: middle;\n",
       "    }\n",
       "\n",
       "    .dataframe tbody tr th {\n",
       "        vertical-align: top;\n",
       "    }\n",
       "\n",
       "    .dataframe thead th {\n",
       "        text-align: right;\n",
       "    }\n",
       "</style>\n",
       "<table border=\"1\" class=\"dataframe\">\n",
       "  <thead>\n",
       "    <tr style=\"text-align: right;\">\n",
       "      <th></th>\n",
       "      <th>age</th>\n",
       "      <th>workclass</th>\n",
       "      <th>fnlwgt</th>\n",
       "      <th>education</th>\n",
       "      <th>educational_num</th>\n",
       "      <th>marital-status</th>\n",
       "      <th>occupation</th>\n",
       "      <th>relationship</th>\n",
       "      <th>race</th>\n",
       "      <th>gender</th>\n",
       "      <th>capital-gain</th>\n",
       "      <th>capital-loss</th>\n",
       "      <th>hours-per-week</th>\n",
       "      <th>native-country</th>\n",
       "      <th>income</th>\n",
       "    </tr>\n",
       "  </thead>\n",
       "  <tbody>\n",
       "    <tr>\n",
       "      <th>0</th>\n",
       "      <td>39</td>\n",
       "      <td>6</td>\n",
       "      <td>77516</td>\n",
       "      <td>9</td>\n",
       "      <td>13</td>\n",
       "      <td>4</td>\n",
       "      <td>0</td>\n",
       "      <td>1</td>\n",
       "      <td>4</td>\n",
       "      <td>1</td>\n",
       "      <td>2174</td>\n",
       "      <td>0</td>\n",
       "      <td>40</td>\n",
       "      <td>38</td>\n",
       "      <td>0</td>\n",
       "    </tr>\n",
       "    <tr>\n",
       "      <th>1</th>\n",
       "      <td>50</td>\n",
       "      <td>5</td>\n",
       "      <td>83311</td>\n",
       "      <td>9</td>\n",
       "      <td>13</td>\n",
       "      <td>2</td>\n",
       "      <td>3</td>\n",
       "      <td>0</td>\n",
       "      <td>4</td>\n",
       "      <td>1</td>\n",
       "      <td>0</td>\n",
       "      <td>0</td>\n",
       "      <td>13</td>\n",
       "      <td>38</td>\n",
       "      <td>0</td>\n",
       "    </tr>\n",
       "    <tr>\n",
       "      <th>2</th>\n",
       "      <td>38</td>\n",
       "      <td>3</td>\n",
       "      <td>215646</td>\n",
       "      <td>11</td>\n",
       "      <td>9</td>\n",
       "      <td>0</td>\n",
       "      <td>5</td>\n",
       "      <td>1</td>\n",
       "      <td>4</td>\n",
       "      <td>1</td>\n",
       "      <td>0</td>\n",
       "      <td>0</td>\n",
       "      <td>40</td>\n",
       "      <td>38</td>\n",
       "      <td>0</td>\n",
       "    </tr>\n",
       "    <tr>\n",
       "      <th>3</th>\n",
       "      <td>53</td>\n",
       "      <td>3</td>\n",
       "      <td>234721</td>\n",
       "      <td>1</td>\n",
       "      <td>7</td>\n",
       "      <td>2</td>\n",
       "      <td>5</td>\n",
       "      <td>0</td>\n",
       "      <td>2</td>\n",
       "      <td>1</td>\n",
       "      <td>0</td>\n",
       "      <td>0</td>\n",
       "      <td>40</td>\n",
       "      <td>38</td>\n",
       "      <td>0</td>\n",
       "    </tr>\n",
       "    <tr>\n",
       "      <th>4</th>\n",
       "      <td>28</td>\n",
       "      <td>3</td>\n",
       "      <td>338409</td>\n",
       "      <td>9</td>\n",
       "      <td>13</td>\n",
       "      <td>2</td>\n",
       "      <td>9</td>\n",
       "      <td>5</td>\n",
       "      <td>2</td>\n",
       "      <td>0</td>\n",
       "      <td>0</td>\n",
       "      <td>0</td>\n",
       "      <td>40</td>\n",
       "      <td>4</td>\n",
       "      <td>0</td>\n",
       "    </tr>\n",
       "    <tr>\n",
       "      <th>...</th>\n",
       "      <td>...</td>\n",
       "      <td>...</td>\n",
       "      <td>...</td>\n",
       "      <td>...</td>\n",
       "      <td>...</td>\n",
       "      <td>...</td>\n",
       "      <td>...</td>\n",
       "      <td>...</td>\n",
       "      <td>...</td>\n",
       "      <td>...</td>\n",
       "      <td>...</td>\n",
       "      <td>...</td>\n",
       "      <td>...</td>\n",
       "      <td>...</td>\n",
       "      <td>...</td>\n",
       "    </tr>\n",
       "    <tr>\n",
       "      <th>32556</th>\n",
       "      <td>27</td>\n",
       "      <td>3</td>\n",
       "      <td>257302</td>\n",
       "      <td>7</td>\n",
       "      <td>12</td>\n",
       "      <td>2</td>\n",
       "      <td>12</td>\n",
       "      <td>5</td>\n",
       "      <td>4</td>\n",
       "      <td>0</td>\n",
       "      <td>0</td>\n",
       "      <td>0</td>\n",
       "      <td>38</td>\n",
       "      <td>38</td>\n",
       "      <td>0</td>\n",
       "    </tr>\n",
       "    <tr>\n",
       "      <th>32557</th>\n",
       "      <td>40</td>\n",
       "      <td>3</td>\n",
       "      <td>154374</td>\n",
       "      <td>11</td>\n",
       "      <td>9</td>\n",
       "      <td>2</td>\n",
       "      <td>6</td>\n",
       "      <td>0</td>\n",
       "      <td>4</td>\n",
       "      <td>1</td>\n",
       "      <td>0</td>\n",
       "      <td>0</td>\n",
       "      <td>40</td>\n",
       "      <td>38</td>\n",
       "      <td>1</td>\n",
       "    </tr>\n",
       "    <tr>\n",
       "      <th>32558</th>\n",
       "      <td>58</td>\n",
       "      <td>3</td>\n",
       "      <td>151910</td>\n",
       "      <td>11</td>\n",
       "      <td>9</td>\n",
       "      <td>6</td>\n",
       "      <td>0</td>\n",
       "      <td>4</td>\n",
       "      <td>4</td>\n",
       "      <td>0</td>\n",
       "      <td>0</td>\n",
       "      <td>0</td>\n",
       "      <td>40</td>\n",
       "      <td>38</td>\n",
       "      <td>0</td>\n",
       "    </tr>\n",
       "    <tr>\n",
       "      <th>32559</th>\n",
       "      <td>22</td>\n",
       "      <td>3</td>\n",
       "      <td>201490</td>\n",
       "      <td>11</td>\n",
       "      <td>9</td>\n",
       "      <td>4</td>\n",
       "      <td>0</td>\n",
       "      <td>3</td>\n",
       "      <td>4</td>\n",
       "      <td>1</td>\n",
       "      <td>0</td>\n",
       "      <td>0</td>\n",
       "      <td>20</td>\n",
       "      <td>38</td>\n",
       "      <td>0</td>\n",
       "    </tr>\n",
       "    <tr>\n",
       "      <th>32560</th>\n",
       "      <td>52</td>\n",
       "      <td>4</td>\n",
       "      <td>287927</td>\n",
       "      <td>11</td>\n",
       "      <td>9</td>\n",
       "      <td>2</td>\n",
       "      <td>3</td>\n",
       "      <td>5</td>\n",
       "      <td>4</td>\n",
       "      <td>0</td>\n",
       "      <td>15024</td>\n",
       "      <td>0</td>\n",
       "      <td>40</td>\n",
       "      <td>38</td>\n",
       "      <td>1</td>\n",
       "    </tr>\n",
       "  </tbody>\n",
       "</table>\n",
       "<p>32418 rows × 15 columns</p>\n",
       "</div>"
      ],
      "text/plain": [
       "       age  workclass  fnlwgt  education  educational_num  marital-status  \\\n",
       "0       39          6   77516          9               13               4   \n",
       "1       50          5   83311          9               13               2   \n",
       "2       38          3  215646         11                9               0   \n",
       "3       53          3  234721          1                7               2   \n",
       "4       28          3  338409          9               13               2   \n",
       "...    ...        ...     ...        ...              ...             ...   \n",
       "32556   27          3  257302          7               12               2   \n",
       "32557   40          3  154374         11                9               2   \n",
       "32558   58          3  151910         11                9               6   \n",
       "32559   22          3  201490         11                9               4   \n",
       "32560   52          4  287927         11                9               2   \n",
       "\n",
       "       occupation  relationship  race  gender  capital-gain  capital-loss  \\\n",
       "0               0             1     4       1          2174             0   \n",
       "1               3             0     4       1             0             0   \n",
       "2               5             1     4       1             0             0   \n",
       "3               5             0     2       1             0             0   \n",
       "4               9             5     2       0             0             0   \n",
       "...           ...           ...   ...     ...           ...           ...   \n",
       "32556          12             5     4       0             0             0   \n",
       "32557           6             0     4       1             0             0   \n",
       "32558           0             4     4       0             0             0   \n",
       "32559           0             3     4       1             0             0   \n",
       "32560           3             5     4       0         15024             0   \n",
       "\n",
       "       hours-per-week  native-country  income  \n",
       "0                  40              38       0  \n",
       "1                  13              38       0  \n",
       "2                  40              38       0  \n",
       "3                  40              38       0  \n",
       "4                  40               4       0  \n",
       "...               ...             ...     ...  \n",
       "32556              38              38       0  \n",
       "32557              40              38       1  \n",
       "32558              40              38       0  \n",
       "32559              20              38       0  \n",
       "32560              40              38       1  \n",
       "\n",
       "[32418 rows x 15 columns]"
      ]
     },
     "execution_count": 62,
     "metadata": {},
     "output_type": "execute_result"
    }
   ],
   "source": [
    "data_train[~((data_train.age < lower) | (data_train.age > upper))]"
   ]
  },
  {
   "cell_type": "code",
   "execution_count": 63,
   "metadata": {},
   "outputs": [],
   "source": [
    "def outlier_remover(dataframe,variable):\n",
    "    # IQR\n",
    "    Q1 = np.percentile(variable, 25, interpolation = 'midpoint')\n",
    "\n",
    "    Q3 = np.percentile(variable, 75, interpolation = 'midpoint')\n",
    "\n",
    "    IQR = Q3 - Q1\n",
    "    \n",
    "    old = len(variable)\n",
    "\n",
    "    # Upper bound\n",
    "    upper=Q3+1.5*IQR\n",
    "    upper_array=np.array(variable>=upper)\n",
    "\n",
    "    # Lower bound\n",
    "    lower=Q1-1.5*IQR\n",
    "    lower_array=np.array(variable<=lower)\n",
    "\n",
    "    data_new = dataframe[~((variable < lower) | (variable > upper))]\n",
    "    \n",
    "    return data_new\n"
   ]
  },
  {
   "cell_type": "code",
   "execution_count": 70,
   "metadata": {},
   "outputs": [
    {
     "name": "stderr",
     "output_type": "stream",
     "text": [
      "/var/folders/1q/pkbbx9h121v61xttm4qrzymr0000gn/T/ipykernel_21827/788795727.py:19: UserWarning: Boolean Series key will be reindexed to match DataFrame index.\n",
      "  data_new = dataframe[~((variable < lower) | (variable > upper))]\n"
     ]
    }
   ],
   "source": [
    "data_new=outlier_remover(data_train, data_train['age'])\n",
    "data_new=outlier_remover(data_new, data_train['workclass'])\n",
    "data_new=outlier_remover(data_new, data_train['fnlwgt'])\n",
    "data_new=outlier_remover(data_new, data_train['education'])\n",
    "data_new=outlier_remover(data_new, data_train['educational_num'])\n",
    "data_new=outlier_remover(data_new, data_train['marital-status'])\n",
    "data_new=outlier_remover(data_new, data_train['occupation'])\n",
    "data_new=outlier_remover(data_new, data_train['relationship'])\n",
    "data_new=outlier_remover(data_new, data_train['race'])\n",
    "data_new=outlier_remover(data_new, data_train['gender'])\n",
    "data_new=outlier_remover(data_new, data_train['capital-gain'])\n",
    "data_new=outlier_remover(data_new, data_train['capital-loss'])\n",
    "data_new=outlier_remover(data_new, data_train['hours-per-week'])\n",
    "data_new=outlier_remover(data_new, data_train['native-country'])\n",
    "#data_new=outlier_remover(data_new, data_train['income'])\n"
   ]
  },
  {
   "cell_type": "code",
   "execution_count": 71,
   "metadata": {},
   "outputs": [
    {
     "data": {
      "text/html": [
       "<div>\n",
       "<style scoped>\n",
       "    .dataframe tbody tr th:only-of-type {\n",
       "        vertical-align: middle;\n",
       "    }\n",
       "\n",
       "    .dataframe tbody tr th {\n",
       "        vertical-align: top;\n",
       "    }\n",
       "\n",
       "    .dataframe thead th {\n",
       "        text-align: right;\n",
       "    }\n",
       "</style>\n",
       "<table border=\"1\" class=\"dataframe\">\n",
       "  <thead>\n",
       "    <tr style=\"text-align: right;\">\n",
       "      <th></th>\n",
       "      <th>age</th>\n",
       "      <th>workclass</th>\n",
       "      <th>fnlwgt</th>\n",
       "      <th>education</th>\n",
       "      <th>educational_num</th>\n",
       "      <th>marital-status</th>\n",
       "      <th>occupation</th>\n",
       "      <th>relationship</th>\n",
       "      <th>race</th>\n",
       "      <th>gender</th>\n",
       "      <th>capital-gain</th>\n",
       "      <th>capital-loss</th>\n",
       "      <th>hours-per-week</th>\n",
       "      <th>native-country</th>\n",
       "      <th>income</th>\n",
       "    </tr>\n",
       "  </thead>\n",
       "  <tbody>\n",
       "    <tr>\n",
       "      <th>2</th>\n",
       "      <td>38</td>\n",
       "      <td>3</td>\n",
       "      <td>215646</td>\n",
       "      <td>11</td>\n",
       "      <td>9</td>\n",
       "      <td>0</td>\n",
       "      <td>5</td>\n",
       "      <td>1</td>\n",
       "      <td>4</td>\n",
       "      <td>1</td>\n",
       "      <td>0</td>\n",
       "      <td>0</td>\n",
       "      <td>40</td>\n",
       "      <td>38</td>\n",
       "      <td>0</td>\n",
       "    </tr>\n",
       "    <tr>\n",
       "      <th>5</th>\n",
       "      <td>37</td>\n",
       "      <td>3</td>\n",
       "      <td>284582</td>\n",
       "      <td>12</td>\n",
       "      <td>14</td>\n",
       "      <td>2</td>\n",
       "      <td>3</td>\n",
       "      <td>5</td>\n",
       "      <td>4</td>\n",
       "      <td>0</td>\n",
       "      <td>0</td>\n",
       "      <td>0</td>\n",
       "      <td>40</td>\n",
       "      <td>38</td>\n",
       "      <td>0</td>\n",
       "    </tr>\n",
       "    <tr>\n",
       "      <th>17</th>\n",
       "      <td>32</td>\n",
       "      <td>3</td>\n",
       "      <td>186824</td>\n",
       "      <td>11</td>\n",
       "      <td>9</td>\n",
       "      <td>4</td>\n",
       "      <td>6</td>\n",
       "      <td>4</td>\n",
       "      <td>4</td>\n",
       "      <td>1</td>\n",
       "      <td>0</td>\n",
       "      <td>0</td>\n",
       "      <td>40</td>\n",
       "      <td>38</td>\n",
       "      <td>0</td>\n",
       "    </tr>\n",
       "    <tr>\n",
       "      <th>24</th>\n",
       "      <td>59</td>\n",
       "      <td>3</td>\n",
       "      <td>109015</td>\n",
       "      <td>11</td>\n",
       "      <td>9</td>\n",
       "      <td>0</td>\n",
       "      <td>12</td>\n",
       "      <td>4</td>\n",
       "      <td>4</td>\n",
       "      <td>0</td>\n",
       "      <td>0</td>\n",
       "      <td>0</td>\n",
       "      <td>40</td>\n",
       "      <td>38</td>\n",
       "      <td>0</td>\n",
       "    </tr>\n",
       "    <tr>\n",
       "      <th>26</th>\n",
       "      <td>19</td>\n",
       "      <td>3</td>\n",
       "      <td>168294</td>\n",
       "      <td>11</td>\n",
       "      <td>9</td>\n",
       "      <td>4</td>\n",
       "      <td>2</td>\n",
       "      <td>3</td>\n",
       "      <td>4</td>\n",
       "      <td>1</td>\n",
       "      <td>0</td>\n",
       "      <td>0</td>\n",
       "      <td>40</td>\n",
       "      <td>38</td>\n",
       "      <td>0</td>\n",
       "    </tr>\n",
       "    <tr>\n",
       "      <th>...</th>\n",
       "      <td>...</td>\n",
       "      <td>...</td>\n",
       "      <td>...</td>\n",
       "      <td>...</td>\n",
       "      <td>...</td>\n",
       "      <td>...</td>\n",
       "      <td>...</td>\n",
       "      <td>...</td>\n",
       "      <td>...</td>\n",
       "      <td>...</td>\n",
       "      <td>...</td>\n",
       "      <td>...</td>\n",
       "      <td>...</td>\n",
       "      <td>...</td>\n",
       "      <td>...</td>\n",
       "    </tr>\n",
       "    <tr>\n",
       "      <th>32554</th>\n",
       "      <td>53</td>\n",
       "      <td>3</td>\n",
       "      <td>321865</td>\n",
       "      <td>12</td>\n",
       "      <td>14</td>\n",
       "      <td>2</td>\n",
       "      <td>3</td>\n",
       "      <td>0</td>\n",
       "      <td>4</td>\n",
       "      <td>1</td>\n",
       "      <td>0</td>\n",
       "      <td>0</td>\n",
       "      <td>40</td>\n",
       "      <td>38</td>\n",
       "      <td>1</td>\n",
       "    </tr>\n",
       "    <tr>\n",
       "      <th>32555</th>\n",
       "      <td>22</td>\n",
       "      <td>3</td>\n",
       "      <td>310152</td>\n",
       "      <td>15</td>\n",
       "      <td>10</td>\n",
       "      <td>4</td>\n",
       "      <td>10</td>\n",
       "      <td>1</td>\n",
       "      <td>4</td>\n",
       "      <td>1</td>\n",
       "      <td>0</td>\n",
       "      <td>0</td>\n",
       "      <td>40</td>\n",
       "      <td>38</td>\n",
       "      <td>0</td>\n",
       "    </tr>\n",
       "    <tr>\n",
       "      <th>32556</th>\n",
       "      <td>27</td>\n",
       "      <td>3</td>\n",
       "      <td>257302</td>\n",
       "      <td>7</td>\n",
       "      <td>12</td>\n",
       "      <td>2</td>\n",
       "      <td>12</td>\n",
       "      <td>5</td>\n",
       "      <td>4</td>\n",
       "      <td>0</td>\n",
       "      <td>0</td>\n",
       "      <td>0</td>\n",
       "      <td>38</td>\n",
       "      <td>38</td>\n",
       "      <td>0</td>\n",
       "    </tr>\n",
       "    <tr>\n",
       "      <th>32557</th>\n",
       "      <td>40</td>\n",
       "      <td>3</td>\n",
       "      <td>154374</td>\n",
       "      <td>11</td>\n",
       "      <td>9</td>\n",
       "      <td>2</td>\n",
       "      <td>6</td>\n",
       "      <td>0</td>\n",
       "      <td>4</td>\n",
       "      <td>1</td>\n",
       "      <td>0</td>\n",
       "      <td>0</td>\n",
       "      <td>40</td>\n",
       "      <td>38</td>\n",
       "      <td>1</td>\n",
       "    </tr>\n",
       "    <tr>\n",
       "      <th>32558</th>\n",
       "      <td>58</td>\n",
       "      <td>3</td>\n",
       "      <td>151910</td>\n",
       "      <td>11</td>\n",
       "      <td>9</td>\n",
       "      <td>6</td>\n",
       "      <td>0</td>\n",
       "      <td>4</td>\n",
       "      <td>4</td>\n",
       "      <td>0</td>\n",
       "      <td>0</td>\n",
       "      <td>0</td>\n",
       "      <td>40</td>\n",
       "      <td>38</td>\n",
       "      <td>0</td>\n",
       "    </tr>\n",
       "  </tbody>\n",
       "</table>\n",
       "<p>10782 rows × 15 columns</p>\n",
       "</div>"
      ],
      "text/plain": [
       "       age  workclass  fnlwgt  education  educational_num  marital-status  \\\n",
       "2       38          3  215646         11                9               0   \n",
       "5       37          3  284582         12               14               2   \n",
       "17      32          3  186824         11                9               4   \n",
       "24      59          3  109015         11                9               0   \n",
       "26      19          3  168294         11                9               4   \n",
       "...    ...        ...     ...        ...              ...             ...   \n",
       "32554   53          3  321865         12               14               2   \n",
       "32555   22          3  310152         15               10               4   \n",
       "32556   27          3  257302          7               12               2   \n",
       "32557   40          3  154374         11                9               2   \n",
       "32558   58          3  151910         11                9               6   \n",
       "\n",
       "       occupation  relationship  race  gender  capital-gain  capital-loss  \\\n",
       "2               5             1     4       1             0             0   \n",
       "5               3             5     4       0             0             0   \n",
       "17              6             4     4       1             0             0   \n",
       "24             12             4     4       0             0             0   \n",
       "26              2             3     4       1             0             0   \n",
       "...           ...           ...   ...     ...           ...           ...   \n",
       "32554           3             0     4       1             0             0   \n",
       "32555          10             1     4       1             0             0   \n",
       "32556          12             5     4       0             0             0   \n",
       "32557           6             0     4       1             0             0   \n",
       "32558           0             4     4       0             0             0   \n",
       "\n",
       "       hours-per-week  native-country  income  \n",
       "2                  40              38       0  \n",
       "5                  40              38       0  \n",
       "17                 40              38       0  \n",
       "24                 40              38       0  \n",
       "26                 40              38       0  \n",
       "...               ...             ...     ...  \n",
       "32554              40              38       1  \n",
       "32555              40              38       0  \n",
       "32556              38              38       0  \n",
       "32557              40              38       1  \n",
       "32558              40              38       0  \n",
       "\n",
       "[10782 rows x 15 columns]"
      ]
     },
     "execution_count": 71,
     "metadata": {},
     "output_type": "execute_result"
    }
   ],
   "source": [
    "data_new"
   ]
  },
  {
   "cell_type": "code",
   "execution_count": null,
   "metadata": {},
   "outputs": [],
   "source": []
  }
 ],
 "metadata": {
  "kernelspec": {
   "display_name": "Python 3 (ipykernel)",
   "language": "python",
   "name": "python3"
  },
  "language_info": {
   "codemirror_mode": {
    "name": "ipython",
    "version": 3
   },
   "file_extension": ".py",
   "mimetype": "text/x-python",
   "name": "python",
   "nbconvert_exporter": "python",
   "pygments_lexer": "ipython3",
   "version": "3.9.7"
  }
 },
 "nbformat": 4,
 "nbformat_minor": 2
}
