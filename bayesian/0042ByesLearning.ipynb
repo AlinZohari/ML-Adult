{
 "cells": [
  {
   "cell_type": "markdown",
   "metadata": {},
   "source": [
    "# Bayes Learning"
   ]
  },
  {
   "cell_type": "markdown",
   "metadata": {},
   "source": [
    "## 1. The Data"
   ]
  },
  {
   "cell_type": "markdown",
   "metadata": {},
   "source": [
    "In this notebook, we will compare the implementations of classic Naive Bayesian algorithms on the Adult dataset. There are multiple Naive Bayesian algorithms provided in scikit-learn library, including Guassin Naive Bayes, Multinomial Naive Bayes, Complement Naive Bayes, Bernoulli Naive Bayes and Categorical Naive Bayes. Here are the detailed descriptions for each type of Naive Bayes algorithms:"
   ]
  },
  {
   "cell_type": "markdown",
   "metadata": {},
   "source": [
    "|Type|Description|Assumption|\n",
    "|--|--|--|\n",
    "|Guassin Naive Bayes (GaussianNB)|implements the Gaussian Naive Bayes algorithm for classification|Features are assumed to be Gaussian distributed|\n",
    "|Multinomial Naive Bayes (MultinomialNB)|classic naive Bayes variants used in text classification|Data is assumed to be multinomially distributed|\n",
    "|Complement Naive Bayes (ComplementNB)|An adaption of Multinomila Naive Bayes|Data is assumed to be multinomially distributed|\n",
    "|Bernoulli Naive Bayes (BernoulliNB)|implements the naive Bayes training and classification algorithms|Data is assumed to be multivariate Bernoulli distributed|\n",
    "|Categorical Naive Bayes (CategoricalNB)|implements the Categorical Naive Bayes algorithm for classification|Each feautre is assumed to be categorically distributed|"
   ]
  },
  {
   "attachments": {},
   "cell_type": "markdown",
   "metadata": {},
   "source": [
    "Our Adult dataset consists of 7 numerical features and 8 categorical features, and we aim at classifying people's income type using their census features. Hence, those algorithms (MultinomialNB, ComplementNB) specialized in text classification will not be included in this analysis. "
   ]
  },
  {
   "cell_type": "markdown",
   "metadata": {},
   "source": [
    "### 1.1 Importing the Data"
   ]
  },
  {
   "cell_type": "code",
   "execution_count": 51,
   "metadata": {},
   "outputs": [],
   "source": [
    "import pandas as pd\n",
    "\n",
    "data_train = pd.read_csv('./data_train.csv')\n",
    "data_train = data_train.reset_index()\n",
    "\n",
    "data_test = pd.read_csv('./data_test.csv')\n",
    "data_test = data_test.reset_index()\n"
   ]
  },
  {
   "cell_type": "code",
   "execution_count": 52,
   "metadata": {},
   "outputs": [
    {
     "name": "stdout",
     "output_type": "stream",
     "text": [
      "There are 8 categorical variables\n",
      "\n",
      "The categorical variables are :\n",
      "\n",
      " ['workclass', 'education', 'marital-status', 'occupation', 'relationship', 'race', 'gender', 'native-country']\n",
      "There are 8 numerical variables\n",
      "\n",
      "The numerical variables are :\n",
      "\n",
      " ['index', 'age', 'fnlwgt', 'educational_num', 'capital-gain', 'capital-loss', 'hours-per-week', 'income']\n"
     ]
    }
   ],
   "source": [
    "#Store all the categorical features\n",
    "categorical = [var for var in data_train.columns if data_train[var].dtype=='O']\n",
    "print('There are {} categorical variables\\n'.format(len(categorical)))\n",
    "print('The categorical variables are :\\n\\n', categorical)\n",
    "\n",
    "#Store all the numerical features\n",
    "numerical = [var for var in data_train.columns if data_train[var].dtype!='O']\n",
    "print('There are {} numerical variables\\n'.format(len(numerical)))\n",
    "print('The numerical variables are :\\n\\n', numerical)"
   ]
  },
  {
   "cell_type": "markdown",
   "metadata": {},
   "source": [
    "## 2. Data Preprocessing"
   ]
  },
  {
   "cell_type": "code",
   "execution_count": 53,
   "metadata": {},
   "outputs": [],
   "source": [
    "# Spliting the feature columns and target column\n",
    "xs_train = data_train.drop(['income'], axis=1)\n",
    "ys_train = data_train['income']\n",
    "\n",
    "xs_test = data_test.drop(['income'], axis=1)\n",
    "ys_test = data_test['income']"
   ]
  },
  {
   "cell_type": "code",
   "execution_count": 54,
   "metadata": {},
   "outputs": [],
   "source": [
    "# Spliting the training set and validation set by 20%\n",
    "from sklearn.model_selection import train_test_split\n",
    "\n",
    "xs_train_v, xs_val, ys_train_v, ys_val = train_test_split(xs_train, ys_train, test_size=0.2, random_state=42)\n",
    "\n",
    "xs_train_v = xs_train_v.reset_index()\n",
    "xs_val = xs_val.reset_index()\n",
    "\n",
    "ys_train_v = ys_train_v.reset_index()\n",
    "ys_val = ys_val .reset_index()"
   ]
  },
  {
   "cell_type": "markdown",
   "metadata": {},
   "source": [
    "### 2.1 For Guassian Naive Bayes"
   ]
  },
  {
   "cell_type": "markdown",
   "metadata": {},
   "source": [
    "For GuassianNB(), we need to encode all the categorical variables."
   ]
  },
  {
   "cell_type": "code",
   "execution_count": 55,
   "metadata": {},
   "outputs": [
    {
     "name": "stdout",
     "output_type": "stream",
     "text": [
      "Requirement already satisfied: category_encoders in /opt/anaconda3/envs/notebook/lib/python3.10/site-packages (2.6.0)\n",
      "Requirement already satisfied: scikit-learn>=0.20.0 in /opt/anaconda3/envs/notebook/lib/python3.10/site-packages (from category_encoders) (1.2.2)\n",
      "Requirement already satisfied: scipy>=1.0.0 in /opt/anaconda3/envs/notebook/lib/python3.10/site-packages (from category_encoders) (1.10.1)\n",
      "Requirement already satisfied: statsmodels>=0.9.0 in /opt/anaconda3/envs/notebook/lib/python3.10/site-packages (from category_encoders) (0.13.5)\n",
      "Requirement already satisfied: numpy>=1.14.0 in /opt/anaconda3/envs/notebook/lib/python3.10/site-packages (from category_encoders) (1.24.2)\n",
      "Requirement already satisfied: pandas>=1.0.5 in /opt/anaconda3/envs/notebook/lib/python3.10/site-packages (from category_encoders) (1.5.3)\n",
      "Requirement already satisfied: patsy>=0.5.1 in /opt/anaconda3/envs/notebook/lib/python3.10/site-packages (from category_encoders) (0.5.3)\n",
      "Requirement already satisfied: pytz>=2020.1 in /opt/anaconda3/envs/notebook/lib/python3.10/site-packages (from pandas>=1.0.5->category_encoders) (2022.7.1)\n",
      "Requirement already satisfied: python-dateutil>=2.8.1 in /opt/anaconda3/envs/notebook/lib/python3.10/site-packages (from pandas>=1.0.5->category_encoders) (2.8.2)\n",
      "Requirement already satisfied: six in /opt/anaconda3/envs/notebook/lib/python3.10/site-packages (from patsy>=0.5.1->category_encoders) (1.16.0)\n",
      "Requirement already satisfied: joblib>=1.1.1 in /opt/anaconda3/envs/notebook/lib/python3.10/site-packages (from scikit-learn>=0.20.0->category_encoders) (1.2.0)\n",
      "Requirement already satisfied: threadpoolctl>=2.0.0 in /opt/anaconda3/envs/notebook/lib/python3.10/site-packages (from scikit-learn>=0.20.0->category_encoders) (3.1.0)\n",
      "Requirement already satisfied: packaging>=21.3 in /opt/anaconda3/envs/notebook/lib/python3.10/site-packages (from statsmodels>=0.9.0->category_encoders) (21.3)\n",
      "Requirement already satisfied: pyparsing!=3.0.5,>=2.0.2 in /opt/anaconda3/envs/notebook/lib/python3.10/site-packages (from packaging>=21.3->statsmodels>=0.9.0->category_encoders) (3.0.9)\n"
     ]
    }
   ],
   "source": [
    "!pip install category_encoders\n",
    "import category_encoders as ce"
   ]
  },
  {
   "cell_type": "code",
   "execution_count": 56,
   "metadata": {},
   "outputs": [],
   "source": [
    "# Since our categorical data does not have a natural ranking, one-hot encoding is used\n",
    "encoder_gnb = ce.OneHotEncoder(cols=categorical)\n",
    "\n",
    "xs_gnb_train = encoder_gnb.fit_transform(xs_train_v)\n",
    "ys_gnb_train = ys_train_v['income']\n",
    "\n",
    "xs_gnb_val = encoder_gnb.transform(xs_val)\n",
    "ys_gnb_val = ys_val['income']"
   ]
  },
  {
   "cell_type": "markdown",
   "metadata": {},
   "source": [
    "### 2.2 For Catetgorical Naive Bayes"
   ]
  },
  {
   "attachments": {},
   "cell_type": "markdown",
   "metadata": {},
   "source": [
    "For CategoricalNB(), we need to convert convert all the numerical features into categorical features by discretization. And they will be discretized by KBinsDiscretizer(), according to their histogram distribution showing in section EDA results."
   ]
  },
  {
   "cell_type": "markdown",
   "metadata": {},
   "source": [
    "#### 2.2.1 Age"
   ]
  },
  {
   "cell_type": "code",
   "execution_count": 57,
   "metadata": {},
   "outputs": [
    {
     "data": {
      "image/png": "[encoded data removed]",
      "text/plain": [
       "<Figure size 640x480 with 1 Axes>"
      ]
     },
     "metadata": {},
     "output_type": "display_data"
    }
   ],
   "source": [
    "from numpy.random import randn\n",
    "from sklearn.preprocessing import KBinsDiscretizer\n",
    "from matplotlib import pyplot\n",
    "\n",
    "age_d = xs_train_v['age']\n",
    "# reshape the Age column\n",
    "age_d=age_d.values.reshape(-1,1)\n",
    "\n",
    "\n",
    "# define the kbinsdiscretizer for Age with 8 bins\n",
    "kbins = KBinsDiscretizer(n_bins=10, encode='ordinal', strategy='uniform')\n",
    "age_trans = kbins.fit_transform(age_d)\n",
    "\n",
    "\n",
    "\n",
    "#process the Age column in validation set as well\n",
    "age_dv = xs_val['age']\n",
    "age_dv=age_dv.values.reshape(-1,1)\n",
    "\n",
    "\n",
    "kbins = KBinsDiscretizer(n_bins=10, encode='ordinal', strategy='uniform')\n",
    "age_trans_v = kbins.fit_transform(age_dv)\n",
    "\n",
    "# histogram of the transformed data\n",
    "pyplot.hist(age_trans_v, bins=10)\n",
    "pyplot.show()"
   ]
  },
  {
   "cell_type": "markdown",
   "metadata": {},
   "source": [
    "#### 2.2.2 fnlwgt"
   ]
  },
  {
   "cell_type": "code",
   "execution_count": 58,
   "metadata": {},
   "outputs": [
    {
     "data": {
      "image/png": "[encoded data removed]",
      "text/plain": [
       "<Figure size 640x480 with 1 Axes>"
      ]
     },
     "metadata": {},
     "output_type": "display_data"
    }
   ],
   "source": [
    "fw_d = xs_train_v['fnlwgt']\n",
    "# reshape the Final weight column\n",
    "fw_d=fw_d.values.reshape(-1,1)\n",
    "\n",
    "# define the kbinsdiscretizer for final weight with 8 bins\n",
    "kbins = KBinsDiscretizer(n_bins=10, encode='ordinal', strategy='uniform')\n",
    "fw_trans = kbins.fit_transform(age_d)\n",
    "\n",
    "\n",
    "\n",
    "fw_dv = xs_val['fnlwgt']\n",
    "fw_dv=fw_dv.values.reshape(-1,1)\n",
    "\n",
    "#process the finalweight column in validation set as well\n",
    "kbins = KBinsDiscretizer(n_bins=10, encode='ordinal', strategy='uniform')\n",
    "fw_trans_v = kbins.fit_transform(fw_dv)\n",
    "\n",
    "# histogram of the transformed data\n",
    "pyplot.hist(fw_trans_v, bins=10)\n",
    "pyplot.show()"
   ]
  },
  {
   "cell_type": "markdown",
   "metadata": {},
   "source": [
    "#### 2.2.2 educational_num"
   ]
  },
  {
   "cell_type": "code",
   "execution_count": 59,
   "metadata": {},
   "outputs": [
    {
     "data": {
      "image/png": "[encoded data removed]",
      "text/plain": [
       "<Figure size 640x480 with 1 Axes>"
      ]
     },
     "metadata": {},
     "output_type": "display_data"
    }
   ],
   "source": [
    "edunum_d = xs_train_v['educational_num']\n",
    "# reshape the educational num column\n",
    "edunum_d=edunum_d.values.reshape(-1,1)\n",
    "\n",
    "\n",
    "# define the kbinsdiscretizer for educational num with 10 bins\n",
    "kbins = KBinsDiscretizer(n_bins=10, encode='ordinal', strategy='uniform')\n",
    "edunum_trans = kbins.fit_transform(edunum_d)\n",
    "\n",
    "\n",
    "#process the educational num column in validation set as well\n",
    "edunum_dv = xs_val['educational_num']\n",
    "edunum_dv=edunum_dv.values.reshape(-1,1)\n",
    "\n",
    "\n",
    "kbins = KBinsDiscretizer(n_bins=10, encode='ordinal', strategy='uniform')\n",
    "edunum_trans_v = kbins.fit_transform(edunum_dv)\n",
    "\n",
    "# histogram of the transformed data\n",
    "pyplot.hist(edunum_trans_v, bins=10)\n",
    "pyplot.show()"
   ]
  },
  {
   "cell_type": "markdown",
   "metadata": {},
   "source": [
    "#### 2.2.3 capital-gain"
   ]
  },
  {
   "cell_type": "code",
   "execution_count": 60,
   "metadata": {},
   "outputs": [
    {
     "data": {
      "image/png": "[encoded data removed]",
      "text/plain": [
       "<Figure size 640x480 with 1 Axes>"
      ]
     },
     "metadata": {},
     "output_type": "display_data"
    }
   ],
   "source": [
    "cg_d = xs_train_v['capital-gain']\n",
    "# reshape the capital gain column\n",
    "cg_d=cg_d.values.reshape(-1,1)\n",
    "\n",
    "\n",
    "# define the kbinsdiscretizer for capital gain with 10 bins\n",
    "kbins = KBinsDiscretizer(n_bins=10, encode='ordinal', strategy='uniform')\n",
    "cg_trans = kbins.fit_transform(cg_d)\n",
    "\n",
    "#process the capital gain column in validation set as well\n",
    "cg_dv = xs_val['capital-gain']\n",
    "cg_dv=cg_dv.values.reshape(-1,1)\n",
    "\n",
    "kbins = KBinsDiscretizer(n_bins=10, encode='ordinal', strategy='uniform')\n",
    "cg_trans_v = kbins.fit_transform(cg_dv)\n",
    "\n",
    "\n",
    "# histogram of the transformed data\n",
    "pyplot.hist(cg_trans_v, bins=10)\n",
    "pyplot.show()"
   ]
  },
  {
   "cell_type": "markdown",
   "metadata": {},
   "source": [
    "#### 2.2.4 capital-loss"
   ]
  },
  {
   "cell_type": "code",
   "execution_count": 61,
   "metadata": {},
   "outputs": [
    {
     "data": {
      "image/png": "[encoded data removed]",
      "text/plain": [
       "<Figure size 640x480 with 1 Axes>"
      ]
     },
     "metadata": {},
     "output_type": "display_data"
    }
   ],
   "source": [
    "#Following the similar process as above\n",
    "cl_d = xs_train_v['capital-loss']\n",
    "cl_d=cl_d.values.reshape(-1,1)\n",
    "\n",
    "kbins = KBinsDiscretizer(n_bins=10, encode='ordinal', strategy='uniform')\n",
    "cl_trans = kbins.fit_transform(cl_d)\n",
    "\n",
    "cl_dv = xs_val['capital-loss']\n",
    "cl_dv=cl_dv.values.reshape(-1,1)\n",
    "\n",
    "kbins = KBinsDiscretizer(n_bins=10, encode='ordinal', strategy='uniform')\n",
    "cl_trans_v = kbins.fit_transform(cl_dv)\n",
    "\n",
    "\n",
    "pyplot.hist(cl_trans_v, bins=10)\n",
    "pyplot.show()"
   ]
  },
  {
   "cell_type": "markdown",
   "metadata": {},
   "source": [
    "#### 2.2.5 hours-per-week"
   ]
  },
  {
   "cell_type": "code",
   "execution_count": 62,
   "metadata": {},
   "outputs": [
    {
     "data": {
      "image/png": "[encoded data removed]",
      "text/plain": [
       "<Figure size 640x480 with 1 Axes>"
      ]
     },
     "metadata": {},
     "output_type": "display_data"
    }
   ],
   "source": [
    "hours_d = xs_train_v['hours-per-week']\n",
    "hours_d=hours_d.values.reshape(-1,1)\n",
    "\n",
    "\n",
    "kbins = KBinsDiscretizer(n_bins=10, encode='ordinal', strategy='uniform')\n",
    "hours_trans = kbins.fit_transform(hours_d)\n",
    "\n",
    "\n",
    "hours_dv = xs_val['hours-per-week']\n",
    "hours_dv=hours_dv.values.reshape(-1,1)\n",
    "\n",
    "\n",
    "\n",
    "kbins = KBinsDiscretizer(n_bins=10, encode='ordinal', strategy='uniform')\n",
    "hours_trans_v = kbins.fit_transform(hours_dv)\n",
    "\n",
    "\n",
    "pyplot.hist(hours_trans_v, bins=10)\n",
    "pyplot.show()"
   ]
  },
  {
   "cell_type": "markdown",
   "metadata": {},
   "source": [
    "#### 2.2.6 Combining converted data"
   ]
  },
  {
   "cell_type": "code",
   "execution_count": 63,
   "metadata": {},
   "outputs": [],
   "source": [
    "#convert the array into dataframe, and combine them with those original categorical features\n",
    "age=pd.DataFrame(age_trans,columns =['age'])\n",
    "fw=pd.DataFrame(fw_trans,columns =['fnlwgt'])\n",
    "edunum=pd.DataFrame(edunum_trans,columns =['educational-num'])\n",
    "cg=pd.DataFrame(cg_trans,columns =['capital-gain'])\n",
    "cl=pd.DataFrame(cl_trans,columns =['capital-loss'])\n",
    "hours=pd.DataFrame(hours_trans,columns =['hours-per-week'])\n",
    "\n",
    "\n",
    "numerical_trans = pd.concat([age,fw,edunum,cg,cl,hours],axis=1)\n",
    "\n",
    "xs_cnb_train = pd.concat([xs_train_v[categorical],numerical_trans],axis=1)"
   ]
  },
  {
   "cell_type": "code",
   "execution_count": 64,
   "metadata": {},
   "outputs": [],
   "source": [
    "# Similarly for the validation dataset\n",
    "age_v=pd.DataFrame(age_trans_v,columns =['age'])\n",
    "fw_v=pd.DataFrame(fw_trans_v,columns =['fnlwgt'])\n",
    "edunum_v=pd.DataFrame(edunum_trans_v,columns =['educational-num'])\n",
    "cg_v=pd.DataFrame(cg_trans_v,columns =['capital-gain'])\n",
    "cl_v=pd.DataFrame(cl_trans_v,columns =['capital-loss'])\n",
    "hours_v=pd.DataFrame(hours_trans_v,columns =['hours-per-week'])\n",
    "\n",
    "\n",
    "numerical_trans_v = pd.concat([age_v,fw_v,edunum_v,cg_v,cl_v,hours_v],axis=1)\n",
    "\n",
    "xs_cnb_val = pd.concat([xs_val[categorical],numerical_trans_v],axis=1)"
   ]
  },
  {
   "cell_type": "code",
   "execution_count": 65,
   "metadata": {},
   "outputs": [],
   "source": [
    "#Encode all the remaining categorical features using one-hot encoder since they do not have natural ranking.\n",
    "#But the discretized numerical features shoudl remain to be ordinal since they have a natural ranking.\n",
    "encoder_cnb = ce.OneHotEncoder(cols=categorical)\n",
    "\n",
    "xs_cnb_train = encoder_cnb.fit_transform(xs_cnb_train)\n",
    "xs_cnb_val = encoder_cnb.transform(xs_cnb_val)\n",
    "\n",
    "ys_cnb_train = ys_train_v['income']\n",
    "ys_cnb_val = ys_val['income']"
   ]
  },
  {
   "attachments": {},
   "cell_type": "markdown",
   "metadata": {},
   "source": [
    "### 2.3 For Bernoulli Naive Bayes"
   ]
  },
  {
   "attachments": {},
   "cell_type": "markdown",
   "metadata": {},
   "source": [
    "Since Bernoulli Naive Bayes is suitable for classifying binary features, all the features should be one-hot encoded. Use teh discretized continuous feature from section 2.2.1-2.2.5, numerical_trans, directly."
   ]
  },
  {
   "cell_type": "code",
   "execution_count": 66,
   "metadata": {},
   "outputs": [],
   "source": [
    "#However, for bernoulli distribution, we also need to use on-hot encode on numerical features\n",
    "#numerical_trans are the discretized features from previous section. Now, all the columns will be one-hot encoded.\n",
    "xs_bnb_train = pd.concat([xs_train_v[categorical],numerical_trans],axis=1)\n",
    "xs_bnb_val = pd.concat([xs_val[categorical],numerical_trans_v],axis=1)\n",
    "\n",
    "encoder_bnb = ce.OneHotEncoder(cols=['workclass', 'education', 'marital-status', 'occupation',\n",
    "                    'relationship', 'race', 'gender', 'native-country',\n",
    "                    'age', 'fnlwgt', 'educational-num', 'capital-gain',\n",
    "                    'capital-loss', 'hours-per-week'])\n",
    "\n",
    "xs_bnb_train = encoder_bnb.fit_transform(xs_bnb_train)\n",
    "xs_bnb_val = encoder_bnb.transform(xs_bnb_val)\n",
    "\n",
    "ys_bnb_train = ys_train_v['income']\n",
    "ys_bnb_val = ys_val['income']\n"
   ]
  },
  {
   "cell_type": "markdown",
   "metadata": {},
   "source": [
    "## 3. Model Training"
   ]
  },
  {
   "cell_type": "markdown",
   "metadata": {},
   "source": [
    "### 3.1 Guassian Naive Bayes"
   ]
  },
  {
   "cell_type": "code",
   "execution_count": 67,
   "metadata": {},
   "outputs": [],
   "source": [
    "# Drop the extra columns cause by re-indexing\n",
    "xs_gnb_train = xs_gnb_train.drop(['level_0','index'],axis = 1)\n",
    "xs_gnb_val = xs_gnb_val.drop(['level_0','index'],axis = 1)"
   ]
  },
  {
   "cell_type": "code",
   "execution_count": 86,
   "metadata": {},
   "outputs": [
    {
     "name": "stderr",
     "output_type": "stream",
     "text": [
      "/opt/anaconda3/envs/notebook/lib/python3.10/site-packages/sklearn/utils/validation.py:1143: DataConversionWarning: A column-vector y was passed when a 1d array was expected. Please change the shape of y to (n_samples, ), for example using ravel().\n",
      "  y = column_or_1d(y, warn=True)\n"
     ]
    },
    {
     "ename": "ValueError",
     "evalue": "could not convert string to float: 'Local-gov'",
     "output_type": "error",
     "traceback": [
      "\u001b[0;31m---------------------------------------------------------------------------\u001b[0m",
      "\u001b[0;31mValueError\u001b[0m                                Traceback (most recent call last)",
      "Cell \u001b[0;32mIn[86], line 7\u001b[0m\n\u001b[1;32m      4\u001b[0m gnb \u001b[39m=\u001b[39m GaussianNB()\n\u001b[1;32m      6\u001b[0m \u001b[39m# fit the model\u001b[39;00m\n\u001b[0;32m----> 7\u001b[0m gnb\u001b[39m.\u001b[39;49mfit(xs_train_v, ys_train_v\u001b[39m.\u001b[39;49mdrop([\u001b[39m'\u001b[39;49m\u001b[39mindex\u001b[39;49m\u001b[39m'\u001b[39;49m],axis \u001b[39m=\u001b[39;49m \u001b[39m1\u001b[39;49m))\n",
      "File \u001b[0;32m/opt/anaconda3/envs/notebook/lib/python3.10/site-packages/sklearn/naive_bayes.py:267\u001b[0m, in \u001b[0;36mGaussianNB.fit\u001b[0;34m(self, X, y, sample_weight)\u001b[0m\n\u001b[1;32m    265\u001b[0m \u001b[39mself\u001b[39m\u001b[39m.\u001b[39m_validate_params()\n\u001b[1;32m    266\u001b[0m y \u001b[39m=\u001b[39m \u001b[39mself\u001b[39m\u001b[39m.\u001b[39m_validate_data(y\u001b[39m=\u001b[39my)\n\u001b[0;32m--> 267\u001b[0m \u001b[39mreturn\u001b[39;00m \u001b[39mself\u001b[39;49m\u001b[39m.\u001b[39;49m_partial_fit(\n\u001b[1;32m    268\u001b[0m     X, y, np\u001b[39m.\u001b[39;49munique(y), _refit\u001b[39m=\u001b[39;49m\u001b[39mTrue\u001b[39;49;00m, sample_weight\u001b[39m=\u001b[39;49msample_weight\n\u001b[1;32m    269\u001b[0m )\n",
      "File \u001b[0;32m/opt/anaconda3/envs/notebook/lib/python3.10/site-packages/sklearn/naive_bayes.py:428\u001b[0m, in \u001b[0;36mGaussianNB._partial_fit\u001b[0;34m(self, X, y, classes, _refit, sample_weight)\u001b[0m\n\u001b[1;32m    425\u001b[0m     \u001b[39mself\u001b[39m\u001b[39m.\u001b[39mclasses_ \u001b[39m=\u001b[39m \u001b[39mNone\u001b[39;00m\n\u001b[1;32m    427\u001b[0m first_call \u001b[39m=\u001b[39m _check_partial_fit_first_call(\u001b[39mself\u001b[39m, classes)\n\u001b[0;32m--> 428\u001b[0m X, y \u001b[39m=\u001b[39m \u001b[39mself\u001b[39;49m\u001b[39m.\u001b[39;49m_validate_data(X, y, reset\u001b[39m=\u001b[39;49mfirst_call)\n\u001b[1;32m    429\u001b[0m \u001b[39mif\u001b[39;00m sample_weight \u001b[39mis\u001b[39;00m \u001b[39mnot\u001b[39;00m \u001b[39mNone\u001b[39;00m:\n\u001b[1;32m    430\u001b[0m     sample_weight \u001b[39m=\u001b[39m _check_sample_weight(sample_weight, X)\n",
      "File \u001b[0;32m/opt/anaconda3/envs/notebook/lib/python3.10/site-packages/sklearn/base.py:584\u001b[0m, in \u001b[0;36mBaseEstimator._validate_data\u001b[0;34m(self, X, y, reset, validate_separately, **check_params)\u001b[0m\n\u001b[1;32m    582\u001b[0m         y \u001b[39m=\u001b[39m check_array(y, input_name\u001b[39m=\u001b[39m\u001b[39m\"\u001b[39m\u001b[39my\u001b[39m\u001b[39m\"\u001b[39m, \u001b[39m*\u001b[39m\u001b[39m*\u001b[39mcheck_y_params)\n\u001b[1;32m    583\u001b[0m     \u001b[39melse\u001b[39;00m:\n\u001b[0;32m--> 584\u001b[0m         X, y \u001b[39m=\u001b[39m check_X_y(X, y, \u001b[39m*\u001b[39;49m\u001b[39m*\u001b[39;49mcheck_params)\n\u001b[1;32m    585\u001b[0m     out \u001b[39m=\u001b[39m X, y\n\u001b[1;32m    587\u001b[0m \u001b[39mif\u001b[39;00m \u001b[39mnot\u001b[39;00m no_val_X \u001b[39mand\u001b[39;00m check_params\u001b[39m.\u001b[39mget(\u001b[39m\"\u001b[39m\u001b[39mensure_2d\u001b[39m\u001b[39m\"\u001b[39m, \u001b[39mTrue\u001b[39;00m):\n",
      "File \u001b[0;32m/opt/anaconda3/envs/notebook/lib/python3.10/site-packages/sklearn/utils/validation.py:1106\u001b[0m, in \u001b[0;36mcheck_X_y\u001b[0;34m(X, y, accept_sparse, accept_large_sparse, dtype, order, copy, force_all_finite, ensure_2d, allow_nd, multi_output, ensure_min_samples, ensure_min_features, y_numeric, estimator)\u001b[0m\n\u001b[1;32m   1101\u001b[0m         estimator_name \u001b[39m=\u001b[39m _check_estimator_name(estimator)\n\u001b[1;32m   1102\u001b[0m     \u001b[39mraise\u001b[39;00m \u001b[39mValueError\u001b[39;00m(\n\u001b[1;32m   1103\u001b[0m         \u001b[39mf\u001b[39m\u001b[39m\"\u001b[39m\u001b[39m{\u001b[39;00mestimator_name\u001b[39m}\u001b[39;00m\u001b[39m requires y to be passed, but the target y is None\u001b[39m\u001b[39m\"\u001b[39m\n\u001b[1;32m   1104\u001b[0m     )\n\u001b[0;32m-> 1106\u001b[0m X \u001b[39m=\u001b[39m check_array(\n\u001b[1;32m   1107\u001b[0m     X,\n\u001b[1;32m   1108\u001b[0m     accept_sparse\u001b[39m=\u001b[39;49maccept_sparse,\n\u001b[1;32m   1109\u001b[0m     accept_large_sparse\u001b[39m=\u001b[39;49maccept_large_sparse,\n\u001b[1;32m   1110\u001b[0m     dtype\u001b[39m=\u001b[39;49mdtype,\n\u001b[1;32m   1111\u001b[0m     order\u001b[39m=\u001b[39;49morder,\n\u001b[1;32m   1112\u001b[0m     copy\u001b[39m=\u001b[39;49mcopy,\n\u001b[1;32m   1113\u001b[0m     force_all_finite\u001b[39m=\u001b[39;49mforce_all_finite,\n\u001b[1;32m   1114\u001b[0m     ensure_2d\u001b[39m=\u001b[39;49mensure_2d,\n\u001b[1;32m   1115\u001b[0m     allow_nd\u001b[39m=\u001b[39;49mallow_nd,\n\u001b[1;32m   1116\u001b[0m     ensure_min_samples\u001b[39m=\u001b[39;49mensure_min_samples,\n\u001b[1;32m   1117\u001b[0m     ensure_min_features\u001b[39m=\u001b[39;49mensure_min_features,\n\u001b[1;32m   1118\u001b[0m     estimator\u001b[39m=\u001b[39;49mestimator,\n\u001b[1;32m   1119\u001b[0m     input_name\u001b[39m=\u001b[39;49m\u001b[39m\"\u001b[39;49m\u001b[39mX\u001b[39;49m\u001b[39m\"\u001b[39;49m,\n\u001b[1;32m   1120\u001b[0m )\n\u001b[1;32m   1122\u001b[0m y \u001b[39m=\u001b[39m _check_y(y, multi_output\u001b[39m=\u001b[39mmulti_output, y_numeric\u001b[39m=\u001b[39my_numeric, estimator\u001b[39m=\u001b[39mestimator)\n\u001b[1;32m   1124\u001b[0m check_consistent_length(X, y)\n",
      "File \u001b[0;32m/opt/anaconda3/envs/notebook/lib/python3.10/site-packages/sklearn/utils/validation.py:879\u001b[0m, in \u001b[0;36mcheck_array\u001b[0;34m(array, accept_sparse, accept_large_sparse, dtype, order, copy, force_all_finite, ensure_2d, allow_nd, ensure_min_samples, ensure_min_features, estimator, input_name)\u001b[0m\n\u001b[1;32m    877\u001b[0m         array \u001b[39m=\u001b[39m xp\u001b[39m.\u001b[39mastype(array, dtype, copy\u001b[39m=\u001b[39m\u001b[39mFalse\u001b[39;00m)\n\u001b[1;32m    878\u001b[0m     \u001b[39melse\u001b[39;00m:\n\u001b[0;32m--> 879\u001b[0m         array \u001b[39m=\u001b[39m _asarray_with_order(array, order\u001b[39m=\u001b[39;49morder, dtype\u001b[39m=\u001b[39;49mdtype, xp\u001b[39m=\u001b[39;49mxp)\n\u001b[1;32m    880\u001b[0m \u001b[39mexcept\u001b[39;00m ComplexWarning \u001b[39mas\u001b[39;00m complex_warning:\n\u001b[1;32m    881\u001b[0m     \u001b[39mraise\u001b[39;00m \u001b[39mValueError\u001b[39;00m(\n\u001b[1;32m    882\u001b[0m         \u001b[39m\"\u001b[39m\u001b[39mComplex data not supported\u001b[39m\u001b[39m\\n\u001b[39;00m\u001b[39m{}\u001b[39;00m\u001b[39m\\n\u001b[39;00m\u001b[39m\"\u001b[39m\u001b[39m.\u001b[39mformat(array)\n\u001b[1;32m    883\u001b[0m     ) \u001b[39mfrom\u001b[39;00m \u001b[39mcomplex_warning\u001b[39;00m\n",
      "File \u001b[0;32m/opt/anaconda3/envs/notebook/lib/python3.10/site-packages/sklearn/utils/_array_api.py:185\u001b[0m, in \u001b[0;36m_asarray_with_order\u001b[0;34m(array, dtype, order, copy, xp)\u001b[0m\n\u001b[1;32m    182\u001b[0m     xp, _ \u001b[39m=\u001b[39m get_namespace(array)\n\u001b[1;32m    183\u001b[0m \u001b[39mif\u001b[39;00m xp\u001b[39m.\u001b[39m\u001b[39m__name__\u001b[39m \u001b[39min\u001b[39;00m {\u001b[39m\"\u001b[39m\u001b[39mnumpy\u001b[39m\u001b[39m\"\u001b[39m, \u001b[39m\"\u001b[39m\u001b[39mnumpy.array_api\u001b[39m\u001b[39m\"\u001b[39m}:\n\u001b[1;32m    184\u001b[0m     \u001b[39m# Use NumPy API to support order\u001b[39;00m\n\u001b[0;32m--> 185\u001b[0m     array \u001b[39m=\u001b[39m numpy\u001b[39m.\u001b[39;49masarray(array, order\u001b[39m=\u001b[39;49morder, dtype\u001b[39m=\u001b[39;49mdtype)\n\u001b[1;32m    186\u001b[0m     \u001b[39mreturn\u001b[39;00m xp\u001b[39m.\u001b[39masarray(array, copy\u001b[39m=\u001b[39mcopy)\n\u001b[1;32m    187\u001b[0m \u001b[39melse\u001b[39;00m:\n",
      "File \u001b[0;32m/opt/anaconda3/envs/notebook/lib/python3.10/site-packages/pandas/core/generic.py:2070\u001b[0m, in \u001b[0;36mNDFrame.__array__\u001b[0;34m(self, dtype)\u001b[0m\n\u001b[1;32m   2069\u001b[0m \u001b[39mdef\u001b[39;00m \u001b[39m__array__\u001b[39m(\u001b[39mself\u001b[39m, dtype: npt\u001b[39m.\u001b[39mDTypeLike \u001b[39m|\u001b[39m \u001b[39mNone\u001b[39;00m \u001b[39m=\u001b[39m \u001b[39mNone\u001b[39;00m) \u001b[39m-\u001b[39m\u001b[39m>\u001b[39m np\u001b[39m.\u001b[39mndarray:\n\u001b[0;32m-> 2070\u001b[0m     \u001b[39mreturn\u001b[39;00m np\u001b[39m.\u001b[39;49masarray(\u001b[39mself\u001b[39;49m\u001b[39m.\u001b[39;49m_values, dtype\u001b[39m=\u001b[39;49mdtype)\n",
      "\u001b[0;31mValueError\u001b[0m: could not convert string to float: 'Local-gov'"
     ]
    }
   ],
   "source": [
    "#Initialize Gaussian Naive Bayes\n",
    "from sklearn.naive_bayes import GaussianNB\n",
    "# instantiate the model\n",
    "gnb = GaussianNB()\n",
    "\n",
    "# fit the model\n",
    "gnb.fit(xs_gnb_train, ys_gnb_train)\n",
    "\n",
    "#Get prediction\n",
    "ys_gnb_pred = gnb.predict(xs_gnb_val)"
   ]
  },
  {
   "cell_type": "markdown",
   "metadata": {},
   "source": [
    "### 3.2 Validation for Guassian Naive Bayes"
   ]
  },
  {
   "cell_type": "code",
   "execution_count": 69,
   "metadata": {},
   "outputs": [
    {
     "name": "stdout",
     "output_type": "stream",
     "text": [
      "Model accuracy score: 0.7992\n",
      "Training set score: 0.7943\n",
      "Validation set score: 0.7992\n",
      "Model precision score: 0.6770\n",
      "Model recall score: 0.3202\n",
      "Model f1 score: 0.4347\n",
      "Model ROC-AUC score: 0.6358\n"
     ]
    }
   ],
   "source": [
    "from sklearn.metrics import accuracy_score\n",
    "from sklearn.metrics import precision_score, recall_score, f1_score, roc_auc_score\n",
    "\n",
    "\n",
    "#Accuracy Score = (TP + TN)/ (TP + FN + TN + FP)\n",
    "print('Model accuracy score: {0:0.4f}'. format(accuracy_score(ys_gnb_val, ys_gnb_pred)))\n",
    "\n",
    "print('Training set score: {:.4f}'.format(gnb.score(xs_gnb_train, ys_gnb_train)))\n",
    "\n",
    "print('Validation set score: {:.4f}'.format(gnb.score(xs_gnb_val, ys_gnb_val)))\n",
    "\n",
    "#Precision = TP/(TP+FP)\n",
    "precision = precision_score(ys_gnb_val, ys_gnb_pred)\n",
    "print('Model precision score: {:.4f}'.format(precision))\n",
    "\n",
    "#Recall = TP/(FN+TP)\n",
    "recall = recall_score(ys_gnb_val, ys_gnb_pred)\n",
    "print('Model recall score: {:.4f}'.format(recall))\n",
    "\n",
    "#The F1 score can be interpreted as a harmonic mean of the precision and recall, \n",
    "#where an F1 score reaches its best value at 1 and worst score at 0. \n",
    "#F1 = 2 * (precision * recall) / (precision + recall)\n",
    "print('Model f1 score: {:.4f}'.format(f1_score(ys_gnb_val, ys_gnb_pred)))\n",
    "\n",
    "#ROC-AUC score\n",
    "print('Model ROC-AUC score: {:.4f}'.format(roc_auc_score(ys_gnb_val, ys_gnb_pred)))"
   ]
  },
  {
   "cell_type": "markdown",
   "metadata": {},
   "source": [
    "### 3.3 Catetgorical Naive Bayes"
   ]
  },
  {
   "cell_type": "code",
   "execution_count": 70,
   "metadata": {},
   "outputs": [],
   "source": [
    "from sklearn.naive_bayes import CategoricalNB\n",
    "\n",
    "#Initialize categorical Naive Bayes\n",
    "cnb = CategoricalNB()\n",
    "\n",
    "#Fit the model\n",
    "cnb = cnb.fit(xs_cnb_train, ys_cnb_train)\n",
    "\n",
    "#Get prediction\n",
    "ys_cnb_pred = cnb.predict(xs_cnb_val)"
   ]
  },
  {
   "cell_type": "markdown",
   "metadata": {},
   "source": [
    "### 3.4 Validation for Categorical Naive Bayes"
   ]
  },
  {
   "cell_type": "code",
   "execution_count": 71,
   "metadata": {},
   "outputs": [
    {
     "name": "stdout",
     "output_type": "stream",
     "text": [
      "Model accuracy score: 0.8182\n",
      "Training set score: 0.7859\n",
      "Validation set score: 0.8182\n",
      "Model precision score: 0.6072\n",
      "Model recall score: 0.6976\n",
      "Model f1 score: 0.6493\n",
      "Model ROC-AUC score: 0.7771\n"
     ]
    }
   ],
   "source": [
    "#Accuracy Score = (TP + TN)/ (TP + FN + TN + FP)\n",
    "print('Model accuracy score: {0:0.4f}'. format(accuracy_score(ys_cnb_val, ys_cnb_pred)))\n",
    "\n",
    "print('Training set score: {:.4f}'.format(cnb.score(xs_cnb_train, ys_cnb_train)))\n",
    "\n",
    "print('Validation set score: {:.4f}'.format(cnb.score(xs_cnb_val, ys_cnb_val)))\n",
    "\n",
    "#Precision = TP/(TP+FP)\n",
    "precision = precision_score(ys_cnb_val, ys_cnb_pred)\n",
    "print('Model precision score: {:.4f}'.format(precision))\n",
    "\n",
    "#Recall = TP/(FN+TP)\n",
    "recall = recall_score(ys_cnb_val, ys_cnb_pred)\n",
    "print('Model recall score: {:.4f}'.format(recall))\n",
    "\n",
    "#The F1 score can be interpreted as a harmonic mean of the precision and recall, \n",
    "#where an F1 score reaches its best value at 1 and worst score at 0. \n",
    "#F1 = 2 * (precision * recall) / (precision + recall)\n",
    "print('Model f1 score: {:.4f}'.format(f1_score(ys_cnb_val, ys_cnb_pred)))\n",
    "\n",
    "#AUC-ROC socre\n",
    "print('Model ROC-AUC score: {:.4f}'.format(roc_auc_score(ys_cnb_val, ys_cnb_pred)))"
   ]
  },
  {
   "attachments": {},
   "cell_type": "markdown",
   "metadata": {},
   "source": [
    "### 3.5 Bernoulli Naive Bayes"
   ]
  },
  {
   "cell_type": "code",
   "execution_count": 72,
   "metadata": {},
   "outputs": [],
   "source": [
    "from sklearn.naive_bayes import BernoulliNB\n",
    "\n",
    "#Initialize Bernoulli Naive Bayes\n",
    "bnb = BernoulliNB()\n",
    "\n",
    "#Fit the model\n",
    "bnb.fit(xs_bnb_train,ys_bnb_train)\n",
    "\n",
    "#Get prediction\n",
    "ys_bnb_pred = bnb.predict(xs_bnb_val)"
   ]
  },
  {
   "attachments": {},
   "cell_type": "markdown",
   "metadata": {},
   "source": [
    "### 3.6 Validation for Bernoulli Naive Bayes"
   ]
  },
  {
   "cell_type": "code",
   "execution_count": 73,
   "metadata": {},
   "outputs": [
    {
     "name": "stdout",
     "output_type": "stream",
     "text": [
      "Model accuracy score: 0.8253\n",
      "Training set score: 0.7956\n",
      "Validation set score: 0.8253\n",
      "Model precision score: 0.6270\n",
      "Model recall score: 0.6805\n",
      "Model f1 score: 0.6526\n",
      "Model ROC-AUC score: 0.7759\n"
     ]
    }
   ],
   "source": [
    "#Accuracy Score = (TP + TN)/ (TP + FN + TN + FP)\n",
    "print('Model accuracy score: {0:0.4f}'. format(accuracy_score(ys_bnb_val, ys_bnb_pred)))\n",
    "\n",
    "print('Training set score: {:.4f}'.format(bnb.score(xs_bnb_train, ys_bnb_train)))\n",
    "\n",
    "print('Validation set score: {:.4f}'.format(bnb.score(xs_bnb_val, ys_bnb_val)))\n",
    "\n",
    "#Precision = TP/(TP+FP)\n",
    "precision = precision_score(ys_bnb_val, ys_bnb_pred)\n",
    "print('Model precision score: {:.4f}'.format(precision))\n",
    "\n",
    "#Recall = TP/(FN+TP)\n",
    "recall = recall_score(ys_bnb_val, ys_bnb_pred)\n",
    "print('Model recall score: {:.4f}'.format(recall))\n",
    "\n",
    "#The F1 score can be interpreted as a harmonic mean of the precision and recall, \n",
    "#where an F1 score reaches its best value at 1 and worst score at 0. \n",
    "#F1 = 2 * (precision * recall) / (precision + recall)\n",
    "print('Model f1 score: {:.4f}'.format(f1_score(ys_bnb_val, ys_bnb_pred)))\n",
    "\n",
    "#AUC-ROC score\n",
    "print('Model ROC-AUC score: {:.4f}'.format(roc_auc_score(ys_bnb_val, ys_bnb_pred)))"
   ]
  },
  {
   "attachments": {},
   "cell_type": "markdown",
   "metadata": {},
   "source": [
    "According to a general comparison between those accuracy, precision, recall, f1 and ROC-AUC scores, BernoulliNB() performs better overall. Hence, the Bernoulli Naive Bayes cnb will be chosen."
   ]
  },
  {
   "cell_type": "markdown",
   "metadata": {},
   "source": [
    "## 4. Model Tesing"
   ]
  },
  {
   "attachments": {},
   "cell_type": "markdown",
   "metadata": {},
   "source": [
    "In this section, we will use the unseen testing dataset to test the fincal chosen Categorical Naive Bayes model, cnb. However, we need to transform the testing dataset first."
   ]
  },
  {
   "attachments": {},
   "cell_type": "markdown",
   "metadata": {},
   "source": [
    "### 4.1 Testing data preprocessing"
   ]
  },
  {
   "cell_type": "code",
   "execution_count": 74,
   "metadata": {},
   "outputs": [],
   "source": [
    "##Discretization the numerical features##\n",
    "\n",
    "#Age\n",
    "age_t = xs_test['age']\n",
    "age_t=age_t.values.reshape(-1,1)\n",
    "\n",
    "kbins = KBinsDiscretizer(n_bins=8, encode='ordinal', strategy='uniform')\n",
    "age_trans_t = kbins.fit_transform(age_t)\n",
    "\n",
    "#Final weight\n",
    "fw_t = xs_test['fnlwgt']\n",
    "fw_t=fw_t.values.reshape(-1,1)\n",
    "\n",
    "kbins = KBinsDiscretizer(n_bins=8, encode='ordinal', strategy='uniform')\n",
    "fw_trans_t = kbins.fit_transform(fw_t)\n",
    "\n",
    "#educational_num\n",
    "edunum_t = xs_test['educational_num']\n",
    "edunum_t=edunum_t.values.reshape(-1,1)\n",
    "\n",
    "kbins = KBinsDiscretizer(n_bins=10, encode='ordinal', strategy='uniform')\n",
    "edunum_trans_t = kbins.fit_transform(edunum_t)\n",
    "\n",
    "#capital gain\n",
    "cg_t = xs_test['capital-gain']\n",
    "cg_t=cg_t.values.reshape(-1,1)\n",
    "\n",
    "kbins = KBinsDiscretizer(n_bins=10, encode='ordinal', strategy='uniform')\n",
    "cg_trans_t = kbins.fit_transform(cg_t)\n",
    "\n",
    "#capital loss\n",
    "cl_t = xs_test['capital-loss']\n",
    "cl_t=cl_t.values.reshape(-1,1)\n",
    "\n",
    "kbins = KBinsDiscretizer(n_bins=10, encode='ordinal', strategy='uniform')\n",
    "cl_trans_t = kbins.fit_transform(cl_t)\n",
    "\n",
    "#hours-per-week\n",
    "hours_t = xs_test['hours-per-week']\n",
    "hours_t=hours_t.values.reshape(-1,1)\n",
    "\n",
    "kbins = KBinsDiscretizer(n_bins=10, encode='ordinal', strategy='uniform')\n",
    "hours_trans_t = kbins.fit_transform(hours_t)"
   ]
  },
  {
   "cell_type": "code",
   "execution_count": 75,
   "metadata": {},
   "outputs": [],
   "source": [
    "age_t=pd.DataFrame(age_trans_t,columns =['age'])\n",
    "fw_t=pd.DataFrame(fw_trans_t,columns =['fnlwgt'])\n",
    "edunum_t=pd.DataFrame(edunum_trans_t,columns =['educational-num'])\n",
    "cg_t=pd.DataFrame(cg_trans_t,columns =['capital-gain'])\n",
    "cl_t=pd.DataFrame(cl_trans_t,columns =['capital-loss'])\n",
    "hours_t=pd.DataFrame(hours_trans_t,columns =['hours-per-week'])\n",
    "\n",
    "\n",
    "numerical_trans_t = pd.concat([age_t,fw_t,edunum_t,cg_t,cl_t,hours_t],axis=1)\n",
    "\n",
    "xs_bnb_test = pd.concat([xs_test[categorical],numerical_trans_t],axis=1)"
   ]
  },
  {
   "cell_type": "code",
   "execution_count": 76,
   "metadata": {},
   "outputs": [],
   "source": [
    "# Using the same encoder all other categorical features\n",
    "xs_bnb_test = encoder_bnb.transform(xs_bnb_test)\n",
    "ys_bnb_test = ys_test"
   ]
  },
  {
   "attachments": {},
   "cell_type": "markdown",
   "metadata": {},
   "source": [
    "### 4.2 Model tesing result"
   ]
  },
  {
   "cell_type": "code",
   "execution_count": 77,
   "metadata": {},
   "outputs": [],
   "source": [
    "# Use unseen testing dataset to test the model cnb\n",
    "ys_bnb_pred_t = bnb.predict(xs_cnb_test)"
   ]
  },
  {
   "cell_type": "code",
   "execution_count": 78,
   "metadata": {},
   "outputs": [
    {
     "name": "stdout",
     "output_type": "stream",
     "text": [
      "Model accuracy score: 0.8327\n",
      "Training set score: 0.8327\n",
      "Test set score: 1.0000\n",
      "Model precision score: 0.6707\n",
      "Model recall score: 0.5736\n",
      "Model f1 score: 0.6184\n",
      "Model ROC-AUC score: 0.7432\n"
     ]
    }
   ],
   "source": [
    "#Accuracy Score = (TP + TN)/ (TP + FN + TN + FP)\n",
    "print('Model accuracy score: {0:0.4f}'. format(accuracy_score(ys_bnb_test, ys_bnb_pred_t)))\n",
    "\n",
    "print('Training set score: {:.4f}'.format(bnb.score(xs_bnb_test, ys_bnb_test)))\n",
    "\n",
    "print('Test set score: {:.4f}'.format(bnb.score(xs_bnb_test, ys_bnb_pred_t)))\n",
    "\n",
    "#Precision = TP/(TP+FP)\n",
    "precision = precision_score(ys_bnb_test, ys_bnb_pred_t)\n",
    "print('Model precision score: {:.4f}'.format(precision))\n",
    "\n",
    "#Recall = TP/(FN+TP)\n",
    "recall = recall_score(ys_bnb_test, ys_bnb_pred_t)\n",
    "print('Model recall score: {:.4f}'.format(recall))\n",
    "\n",
    "#The F1 score can be interpreted as a harmonic mean of the precision and recall, \n",
    "#where an F1 score reaches its best value at 1 and worst score at 0. \n",
    "#F1 = 2 * (precision * recall) / (precision + recall)\n",
    "print('Model f1 score: {:.4f}'.format(f1_score(ys_bnb_test, ys_bnb_pred_t)))\n",
    "\n",
    "print('Model ROC-AUC score: {:.4f}'.format(roc_auc_score(ys_bnb_test, ys_bnb_pred_t)))"
   ]
  },
  {
   "attachments": {},
   "cell_type": "markdown",
   "metadata": {},
   "source": [
    "### 4.3 Results visualisation"
   ]
  },
  {
   "cell_type": "code",
   "execution_count": 79,
   "metadata": {},
   "outputs": [
    {
     "data": {
      "text/plain": [
       "<sklearn.metrics._plot.confusion_matrix.ConfusionMatrixDisplay at 0x7f9af1171360>"
      ]
     },
     "execution_count": 79,
     "metadata": {},
     "output_type": "execute_result"
    },
    {
     "data": {
      "image/png": "[encoded data removed]",
      "text/plain": [
       "<Figure size 640x480 with 2 Axes>"
      ]
     },
     "metadata": {},
     "output_type": "display_data"
    }
   ],
   "source": [
    "from sklearn.metrics import ConfusionMatrixDisplay\n",
    "ConfusionMatrixDisplay.from_estimator(bnb,xs_bnb_test, ys_bnb_test)"
   ]
  },
  {
   "cell_type": "code",
   "execution_count": 80,
   "metadata": {},
   "outputs": [
    {
     "data": {
      "text/plain": [
       "<sklearn.metrics._plot.confusion_matrix.ConfusionMatrixDisplay at 0x7f9ad990f160>"
      ]
     },
     "execution_count": 80,
     "metadata": {},
     "output_type": "execute_result"
    },
    {
     "data": {
      "image/png": "[encoded data removed]",
      "text/plain": [
       "<Figure size 640x480 with 2 Axes>"
      ]
     },
     "metadata": {},
     "output_type": "display_data"
    }
   ],
   "source": [
    "ConfusionMatrixDisplay.from_predictions(ys_bnb_test, ys_bnb_pred_t)"
   ]
  },
  {
   "cell_type": "code",
   "execution_count": 81,
   "metadata": {},
   "outputs": [
    {
     "data": {
      "text/plain": [
       "<sklearn.metrics._plot.roc_curve.RocCurveDisplay at 0x7f9b03e7fb50>"
      ]
     },
     "execution_count": 81,
     "metadata": {},
     "output_type": "execute_result"
    },
    {
     "data": {
      "image/png": "[encoded data removed]",
      "text/plain": [
       "<Figure size 640x480 with 1 Axes>"
      ]
     },
     "metadata": {},
     "output_type": "display_data"
    }
   ],
   "source": [
    "from sklearn.metrics import RocCurveDisplay\n",
    "RocCurveDisplay.from_estimator(bnb, xs_bnb_test, ys_bnb_test)"
   ]
  },
  {
   "cell_type": "code",
   "execution_count": 82,
   "metadata": {},
   "outputs": [
    {
     "data": {
      "text/plain": [
       "<sklearn.metrics._plot.roc_curve.RocCurveDisplay at 0x7f9b0450a3b0>"
      ]
     },
     "execution_count": 82,
     "metadata": {},
     "output_type": "execute_result"
    },
    {
     "data": {
      "image/png": "[encoded data removed]",
      "text/plain": [
       "<Figure size 640x480 with 1 Axes>"
      ]
     },
     "metadata": {},
     "output_type": "display_data"
    }
   ],
   "source": [
    "RocCurveDisplay.from_predictions(ys_bnb_test,ys_bnb_pred_t)"
   ]
  },
  {
   "cell_type": "code",
   "execution_count": 83,
   "metadata": {},
   "outputs": [],
   "source": [
    "# save the model to disk\n",
    "import pickle\n",
    "filename = 'BernoullilNaiveBayes.sav'\n",
    "pickle.dump(bnb, open(filename, 'wb'))"
   ]
  },
  {
   "attachments": {},
   "cell_type": "markdown",
   "metadata": {},
   "source": [
    "To use the saved model, code in section 4.1 need to be run through to pre-process the data. And the, use the folowing code to load the Bernoulli Naive Bayes Classifer, bnb."
   ]
  },
  {
   "cell_type": "code",
   "execution_count": 84,
   "metadata": {},
   "outputs": [
    {
     "name": "stdout",
     "output_type": "stream",
     "text": [
      "0.7955697174447175\n"
     ]
    }
   ],
   "source": [
    "loaded_model = pickle.load(open(filename, 'rb'))\n",
    "result = loaded_model.score(xs_bnb_train, ys_bnb_train)\n",
    "print(result)"
   ]
  },
  {
   "cell_type": "code",
   "execution_count": null,
   "metadata": {},
   "outputs": [],
   "source": []
  }
 ],
 "metadata": {
  "kernelspec": {
   "display_name": "Python 3 (ipykernel)",
   "language": "python",
   "name": "python3"
  },
  "language_info": {
   "codemirror_mode": {
    "name": "ipython",
    "version": 3
   },
   "file_extension": ".py",
   "mimetype": "text/x-python",
   "name": "python",
   "nbconvert_exporter": "python",
   "pygments_lexer": "ipython3",
   "version": "3.10.8"
  }
 },
 "nbformat": 4,
 "nbformat_minor": 2
}
